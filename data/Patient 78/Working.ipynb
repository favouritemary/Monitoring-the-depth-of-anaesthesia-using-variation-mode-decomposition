{
 "cells": [
  {
   "cell_type": "markdown",
   "id": "9f8efde9",
   "metadata": {},
   "source": [
    "# Data Importation"
   ]
  },
  {
   "cell_type": "code",
   "execution_count": 32,
   "id": "8a50f622",
   "metadata": {
    "hide_input": false
   },
   "outputs": [],
   "source": [
    "import numpy as np\n",
    "import matplotlib.pyplot as plt\n",
    "import pandas as pd\n",
    "from collections import namedtuple\n",
    "from scipy.signal import butter, filtfilt\n",
    "from scipy.io import loadmat\n",
    "from collections import namedtuple\n",
    "from math import floor\n",
    "from scipy import stats\n",
    "import antropy as ant\n",
    "import pywt\n",
    "from vmdpy import VMD\n",
    "import warnings"
   ]
  },
  {
   "cell_type": "code",
   "execution_count": 2,
   "id": "90bb84e6",
   "metadata": {},
   "outputs": [],
   "source": [
    "warnings.filterwarnings('ignore')"
   ]
  },
  {
   "cell_type": "code",
   "execution_count": 33,
   "id": "90576b44",
   "metadata": {
    "hide_input": true
   },
   "outputs": [
    {
     "name": "stdout",
     "output_type": "stream",
     "text": [
      "The shape of EEG signals and BIS for patient 78 is (535191,) and (4180,) \n"
     ]
    }
   ],
   "source": [
    "# import the data for patient 1\n",
    "EEG_78_CH2 = pd.read_csv('EEG_78_CH2.csv')\n",
    "bis_78 = pd.read_csv('bis_78.csv')\n",
    "B78=bis_78['BIS/BIS']\n",
    "E78=np.ravel(EEG_78_CH2['BIS/EEG2_WAV'])\n",
    "print ('The shape of EEG signals and BIS for patient 78 is {} and {} '.format(E78.shape,B78.shape) )"
   ]
  },
  {
   "cell_type": "code",
   "execution_count": 34,
   "id": "5f76311a",
   "metadata": {},
   "outputs": [
    {
     "data": {
      "text/plain": [
       "array([-5.6, -5.6, -5.6, ..., -6.5, -6.5, -6.5])"
      ]
     },
     "execution_count": 34,
     "metadata": {},
     "output_type": "execute_result"
    }
   ],
   "source": [
    "# Handling missing values\n",
    "E78_copy = np.copy(E78)\n",
    "def handle_missing_values(signal):\n",
    "    # Interpolate missing values using linear interpolation\n",
    "    mask = np.isnan(signal)\n",
    "    signal[mask] = np.interp(np.flatnonzero(mask), np.flatnonzero(~mask), signal[~mask])\n",
    "    return signal\n",
    "handle_missing_values(E78_copy)"
   ]
  },
  {
   "cell_type": "code",
   "execution_count": 35,
   "id": "2ec965e9",
   "metadata": {
    "scrolled": true
   },
   "outputs": [],
   "source": [
    "bis_list = B78.tolist()"
   ]
  },
  {
   "cell_type": "markdown",
   "id": "268dec9e",
   "metadata": {},
   "source": [
    "<br/>"
   ]
  },
  {
   "cell_type": "markdown",
   "id": "2e566dce",
   "metadata": {},
   "source": [
    "# Windowing"
   ]
  },
  {
   "cell_type": "code",
   "execution_count": 36,
   "id": "049fce18",
   "metadata": {
    "hide_input": true
   },
   "outputs": [],
   "source": [
    "# Generate the windows\n",
    "def generate_samples(bis, eeg, window_size=600, sampling_rate=128, verbose=False):\n",
    "    \"\"\"\n",
    "    Generates EEG samples for consecutive windows \n",
    "    and their corresponding BIS value\n",
    "    \n",
    "    \n",
    "    Parameters\n",
    "    ----------       \n",
    "    bis: (n,) array\n",
    "        BIS Sample\n",
    "        \n",
    "    eeg: (n,) array. \n",
    "        EEG Sample. \n",
    "        \n",
    "    window_size: int, default=60 \n",
    "        Duration of each window in seconds\n",
    "        \n",
    "    sampling_rate: float default=128\n",
    "        Sampling rate of the EEG sample in Hz.\n",
    "        \n",
    "    verbose: Bool; default=False\n",
    "        Provides feedback on the sampling process\n",
    "        \n",
    "    \n",
    "    Generates\n",
    "    ---------\n",
    "    tup: tuple(bis_mode, eeg_sample)\n",
    "    \n",
    "        bis_mode: float\n",
    "            Modal BIS value of the EEG Sample\n",
    "        \n",
    "        eeg_sample: array\n",
    "            EEG Sample for a 5 second window\n",
    "        \n",
    "        \n",
    "        \n",
    "    Example\n",
    "    -------\n",
    "    >>> awake = np.array([82.8])\n",
    "    >>> eeg = array([ 0.17727497,  0.17783894,  0.17834346,  0.17878847,  0.17917353,\n",
    "        0.17949788,  0.17976084,  0.17996202,  0.18010136,  0.18017881, ...])\n",
    "       \n",
    "    >>> # Create the generator\n",
    "    >>> gen_sample = generate_samples(bis, eeg)\n",
    "    \n",
    "    >>> # Generate EEG sample\n",
    "    >>> sample = next(gen_sample)\n",
    "    \n",
    "    \n",
    "    Notes\n",
    "    -----\n",
    "    generate_samples works well with the generate_DFTParameters and generate_DWTParameters functions.\n",
    "    \n",
    "    >>> generate_DFTParameters(sample)\n",
    "    [0.075986      0.206614     0.405465      1.290984      0.980829       84.5]\n",
    "    \n",
    "    \"\"\"\n",
    "    \n",
    "    bis_len = len(bis)\n",
    "    \n",
    "    if bis_len < window_size:\n",
    "        print(\"Length of BIS values must be greater than {}\".format(window_size))\n",
    "        return    \n",
    "\n",
    "    \n",
    "    start, end = 0, window_size\n",
    "    \n",
    "    eeg_start, eeg_end = 0, end * sampling_rate\n",
    "    \n",
    "    \n",
    "    while True:\n",
    "        if end > bis_len:\n",
    "            break\n",
    "        \n",
    "        bis_idx = bis[start:end][1]\n",
    "        \n",
    "        eeg_sample = eeg[eeg_start:eeg_end]\n",
    "        \n",
    "        data = namedtuple('EEG_Sample', ['eeg', 'bis'])\n",
    "        \n",
    "        tup = data(eeg_sample, bis_idx)\n",
    "        \n",
    "        if verbose:\n",
    "            print(\"EEG Start: {} - {}\".format(eeg_start, eeg_end))\n",
    "        \n",
    "        yield tup\n",
    "        \n",
    "        # update ranges\n",
    "        start += 1\n",
    "        end += 1\n",
    "        \n",
    "        eeg_start = start * sampling_rate\n",
    "        eeg_end = end * sampling_rate\n",
    "        \n",
    "        "
   ]
  },
  {
   "cell_type": "markdown",
   "id": "066af93c",
   "metadata": {},
   "source": [
    "<br/>"
   ]
  },
  {
   "cell_type": "markdown",
   "id": "7bce26d7",
   "metadata": {},
   "source": [
    "## Testing <code>generate_samples</code>\n",
    "\n",
    "We have to make sure that 60th BIS value for this patient - **82.9**, is the first value generated by the generator."
   ]
  },
  {
   "cell_type": "code",
   "execution_count": 37,
   "id": "a62ccab6",
   "metadata": {
    "scrolled": true
   },
   "outputs": [
    {
     "name": "stdout",
     "output_type": "stream",
     "text": [
      "EEG Start: 0 - 76800\n",
      "First BIS index:  0.0\n",
      "First EEG index:  [ -5.6  -5.6  -5.6 ... -20.6 -20.2 -18.3]  and the shape is (76800,)\n"
     ]
    }
   ],
   "source": [
    "# -----\n",
    "# TEST\n",
    "# -----\n",
    "\n",
    "# Get the data\n",
    "bis = bis_list\n",
    "eeg_sample = E78_copy\n",
    "# Create the generator\n",
    "test_generator = generate_samples(bis, eeg_sample, verbose=True)\n",
    "\n",
    "test_sample = next(test_generator)\n",
    "\n",
    "print(\"First BIS index: \", test_sample.bis)\n",
    "print(\"First EEG index: \", test_sample.eeg,\" and the shape is\", test_sample.eeg.shape)\n",
    "\n",
    " #Check that BIS values are only recorded after 60 seconds\n",
    " #The 60th BIS is 82.9 for this patient\n",
    "#assert test_sample.bis == bis[200] == 74.8"
   ]
  },
  {
   "cell_type": "code",
   "execution_count": 38,
   "id": "aa394451",
   "metadata": {},
   "outputs": [
    {
     "data": {
      "text/plain": [
       "76800"
      ]
     },
     "execution_count": 38,
     "metadata": {},
     "output_type": "execute_result"
    }
   ],
   "source": [
    "102400-25600"
   ]
  },
  {
   "cell_type": "markdown",
   "id": "12729b02",
   "metadata": {},
   "source": [
    "<br/>"
   ]
  },
  {
   "cell_type": "markdown",
   "id": "b6080132",
   "metadata": {},
   "source": [
    "# Feature Extraction\n",
    "\n",
    "## DFT <code>generate_DFTParameters</code>"
   ]
  },
  {
   "cell_type": "code",
   "execution_count": 39,
   "id": "57e605cd",
   "metadata": {
    "hide_input": true
   },
   "outputs": [],
   "source": [
    "def generate_DFTParameters(eeg_sample, sampling_rate=128, method=\"samp_ent\"):\n",
    "    \"\"\"\n",
    "    Generate the DFT parameters of EEG segments\n",
    "    \n",
    "    \n",
    "    Parameters\n",
    "    ----------\n",
    "    eeg_sample: namedtuple('EEG_Sample', ['eeg', 'bis'])\n",
    "    \n",
    "        eeg: (n,) array \n",
    "            EEG Data\n",
    "            \n",
    "        bis: float\n",
    "            Bispectral Index\n",
    "            \n",
    "        \n",
    "    sampling_rate: int\n",
    "        Sampling rate of the EEG segment\n",
    "    \n",
    "    \n",
    "    method: String; default=\"samp_ent\"; Values can be \"samp_ent\", \"perm_ent\", \"hig\", or \"katz\"\n",
    "    \n",
    "        Feature extraction methods implemented here are \n",
    "        - Sample entropy\n",
    "        - Permutation entropy\n",
    "        - Higuchi's Fractal Dimension\n",
    "        - Katz's Fractal Dimension\n",
    "        \n",
    "        \n",
    "        \n",
    "    Returns\n",
    "    -------\n",
    "    df : namedtuple\n",
    "        namedtuple of EEG parameters\n",
    "        \n",
    "    \n",
    "    Notes\n",
    "    -----\n",
    "    Works well with the generate_samples function. See the documentation on generate_samples.\n",
    "    \"\"\"\n",
    "    \n",
    "    # amplitudes\n",
    "    fft_values = np.absolute(np.fft.rfft(eeg_sample.eeg))\n",
    "\n",
    "    # frequencies\n",
    "    fft_freq = np.fft.rfftfreq(len(eeg_sample.eeg), 1.0/sampling_rate)\n",
    "    \n",
    "    # Analysing the bands\n",
    "    eeg_bands = {'Delta': (0, 4),\n",
    "                 'Theta': (4, 8),\n",
    "                 'Alpha': (8, 12),\n",
    "                 'Beta': (12, 30),\n",
    "                 'Gamma': (30, 45)}\n",
    "\n",
    "    eeg_band_fft = dict()\n",
    "\n",
    "    for band in eeg_bands.keys():\n",
    "        freq_idx = np.where((fft_freq >= eeg_bands[band][0]) & (fft_freq <= eeg_bands[band][1]))\n",
    "\n",
    "        # sum the amplitudes of the bands\n",
    "        eeg_band_fft[band] = fft_values[freq_idx]\n",
    "        \n",
    "\n",
    "    # Sample entropy\n",
    "    if method == \"samp_ent\":\n",
    "        # Sample entropy of the delta band\n",
    "        sampen_delta = ant.sample_entropy(eeg_band_fft['Delta'])\n",
    "        sampen_beta = ant.sample_entropy(eeg_band_fft['Beta'])\n",
    "        sampen_theta = ant.sample_entropy(eeg_band_fft['Theta'])\n",
    "        sampen_gamma = ant.sample_entropy(eeg_band_fft['Gamma'])\n",
    "        sampen_alpha = ant.sample_entropy(eeg_band_fft['Alpha'])\n",
    "\n",
    "        # Create the namedtuple\n",
    "        Parameters = namedtuple('Parameters', [\"Sampen_Delta\", \"Sampen_Beta\", \"Sampen_Theta\", \"Sampen_Gamma\", \"Sampen_Alpha\", \"BIS\"])\n",
    "\n",
    "        return Parameters(sampen_delta, sampen_beta, sampen_theta, sampen_gamma, sampen_alpha, eeg_sample.bis)\n",
    "\n",
    "\n",
    "    # Permutation Entropy\n",
    "    if method == \"perm_ent\":\n",
    "        permen_delta = ant.perm_entropy(eeg_band_fft['Delta'])\n",
    "        permen_beta = ant.perm_entropy(eeg_band_fft['Beta'])\n",
    "        permen_theta = ant.perm_entropy(eeg_band_fft['Theta'])\n",
    "        permen_gamma = ant.perm_entropy(eeg_band_fft['Gamma'])\n",
    "        permen_alpha = ant.perm_entropy(eeg_band_fft['Alpha'])\n",
    "\n",
    "        # Create the namedtuple\n",
    "        Parameters = namedtuple('Parameters', [\"Permen_Delta\", \"Permen_Beta\", \"Permen_Theta\", \"Permen_Gamma\", \"Permen_Alpha\", \"BIS\"])\n",
    "\n",
    "        return Parameters(permen_delta, permen_beta, permen_theta, permen_gamma, permen_alpha, eeg_sample.bis)\n",
    "\n",
    "\n",
    "    # Higuchi Fractal Dimension\n",
    "    if method == \"hig\":\n",
    "        hig_delta = ant.higuchi_fd(eeg_band_fft['Delta'])\n",
    "        hig_beta = ant.higuchi_fd(eeg_band_fft['Beta'])\n",
    "        hig_theta = ant.higuchi_fd(eeg_band_fft['Theta'])\n",
    "        hig_gamma = ant.higuchi_fd(eeg_band_fft['Gamma'])\n",
    "        \n",
    "        hig_alpha = ant.higuchi_fd(eeg_band_fft['Alpha'])\n",
    "\n",
    "        # Create the namedtuple\n",
    "        Parameters = namedtuple('Parameters', [\"Hig_Delta\", \"Hig_Beta\", \"Hig_Theta\", \"Hig_Gamma\", \"Hig_Alpha\", \"BIS\"])\n",
    "\n",
    "        return Parameters(hig_delta, hig_beta, hig_theta, hig_gamma, hig_alpha, eeg_sample.bis)\n",
    "\n",
    "\n",
    "    # Katz Fractal Dimension\n",
    "    if method == \"katz\":\n",
    "        # Sample entropy of the delta band\n",
    "        katz_delta = ant.katz_fd(eeg_band_fft['Delta'])\n",
    "        katz_beta = ant.katz_fd(eeg_band_fft['Beta'])\n",
    "        katz_theta = ant.katz_fd(eeg_band_fft['Theta'])\n",
    "        katz_gamma = ant.katz_fd(eeg_band_fft['Gamma'])\n",
    "        katz_alpha = ant.katz_fd(eeg_band_fft['Alpha'])\n",
    "\n",
    "        # Create the namedtuple\n",
    "        Parameters = namedtuple('Parameters', [\"Katz_Delta\", \"Katz_Beta\", \"Katz_Theta\", \"Katz_Gamma\", \"Katz_Alpha\", \"BIS\"])\n",
    "\n",
    "        return Parameters(katz_delta, katz_beta, katz_theta, katz_gamma, katz_alpha, eeg_sample.bis)\n",
    "    \n",
    "    if method == 'mean':\n",
    "        # Sample entropy of the delta band\n",
    "        mean_delta = np.mean(eeg_band_fft['Delta'])\n",
    "        mean_beta = np.mean(eeg_band_fft['Beta'])\n",
    "        mean_theta =np.mean(eeg_band_fft['Theta'])\n",
    "        mean_gamma = np.mean(eeg_band_fft['Gamma'])\n",
    "        mean_alpha = np.mean(eeg_band_fft['Alpha'])\n",
    "\n",
    "        # Create the namedtuple\n",
    "        Parameters = namedtuple('Parameters', [\"mean_Delta\", \"mean_Beta\", \"mean_Theta\", \"mean_Gamma\", \"mean_Alpha\", \"BIS\"])\n",
    "\n",
    "        return Parameters(mean_delta, mean_beta, mean_theta, mean_gamma, mean_alpha, eeg_sample.bis)\n",
    "    \n",
    "    \n",
    "    # All parameters\n",
    "    if method == \"all\":\n",
    "        # Let's hope we never have to do this\n",
    "        pass\n",
    "    "
   ]
  },
  {
   "cell_type": "code",
   "execution_count": 40,
   "id": "f9b73444",
   "metadata": {},
   "outputs": [
    {
     "data": {
      "text/plain": [
       "Parameters(Sampen_Delta=0.5065701004368967, Sampen_Beta=1.66929080412263, Sampen_Theta=1.940237684798296, Sampen_Gamma=1.513319125604912, Sampen_Alpha=1.9295514260237991, BIS=0.0)"
      ]
     },
     "execution_count": 40,
     "metadata": {},
     "output_type": "execute_result"
    }
   ],
   "source": [
    "generate_DFTParameters(test_sample)"
   ]
  },
  {
   "cell_type": "markdown",
   "id": "09ea26db",
   "metadata": {
    "hide_input": false
   },
   "source": [
    "<br/>"
   ]
  },
  {
   "cell_type": "markdown",
   "id": "e9598000",
   "metadata": {},
   "source": [
    "## DWT <code>generate_DWTParameters</code>"
   ]
  },
  {
   "cell_type": "code",
   "execution_count": 41,
   "id": "ba087b41",
   "metadata": {
    "hide_input": false
   },
   "outputs": [],
   "source": [
    "def generate_DWTParameters(eeg_sample, wavelet=\"db4\", method=\"mean\"):\n",
    "    \n",
    "    \"\"\"\n",
    "    Generate the DWT Parameters of an EEG Sample\n",
    "    \n",
    "    \n",
    "    Parameters\n",
    "    -----------\n",
    "    eeg_sample: namedtuple('EEG_Sample', ['eeg', 'bis'])\n",
    "    \n",
    "        bis: float\n",
    "            Bispectral Index\n",
    "            \n",
    "        eeg: (n,) array \n",
    "            EEG Data\n",
    "            \n",
    "            \n",
    "    wavelet: String; default=\"db4\"\n",
    "        Wavelet to use\n",
    "    \n",
    "    \n",
    "    method: String; default=\"samp_ent\"; Values can be \"samp_ent\", \"perm_ent\", \"hig\", or \"katz\"\n",
    "    \n",
    "        Feature extraction method: Methods implemented here are \n",
    "        - Sample entropy\n",
    "        - Permutation entropy\n",
    "        - Higuchi's Fractal Dimension\n",
    "        - Katz's Fractal Dimension\n",
    "        \n",
    "        \n",
    "        \n",
    "    Returns\n",
    "    -------\n",
    "    df : namedtuple\n",
    "        namedtuple of EEG parameters\n",
    "        \n",
    "    \n",
    "    Notes\n",
    "    -----\n",
    "    Works well with the generate_samples function. See the documentation on generate_samples.\n",
    "    \"\"\"\n",
    "    \n",
    "    # Approximate and Detailed Coefficients\n",
    "    cA_4, cD_4, cD_3, cD_2, cD_1 = pywt.wavedec(eeg_sample.eeg, wavelet, level=4)\n",
    "    \n",
    "    \n",
    "    # Introduced a new method parameter: The parameters are calculated based on the method selected\n",
    "    if method == \"samp_ent\":\n",
    "        # Sample Entropy of the sub-bands\n",
    "        sampen_cA_4 = ant.sample_entropy(cA_4)\n",
    "        sampen_cD_4 = ant.sample_entropy(cD_4)\n",
    "        sampen_cD_3 = ant.sample_entropy(cD_3)\n",
    "        sampen_cD_2 = ant.sample_entropy(cD_2)\n",
    "        sampen_cD_1 = ant.sample_entropy(cD_1)\n",
    "\n",
    "        # Create the namedtuple \n",
    "        Parameters = namedtuple('Parameters', [\"SampenCA_4\", \"SampenCD_4\", \"SampenCD_3\", \"SampenCD_2\", \"SampenCD_1\", \"BIS\"])\n",
    "\n",
    "        return Parameters(sampen_cA_4, sampen_cD_4, sampen_cD_3, sampen_cD_2, sampen_cD_1, eeg_sample.bis)\n",
    "        \n",
    "        \n",
    "    # Permutation Entropy: variables -> order, delay, normalize\n",
    "    # Use default values in the meantime\n",
    "    if method == \"perm_ent\":\n",
    "        perment_cA_4 = ant.perm_entropy(cA_4)\n",
    "        perment_cD_4 = ant.perm_entropy(cD_4)\n",
    "        perment_cD_3 = ant.perm_entropy(cD_3)\n",
    "        perment_cD_2 = ant.perm_entropy(cD_2)\n",
    "        perment_cD_1 = ant.perm_entropy(cD_1)\n",
    "\n",
    "        # Create the namedtuple\n",
    "        Parameters = namedtuple('Parameters', ['Permen_cA_4', 'Permen_cD_4', 'Permen_cD_3', 'Permen_cD_2', 'Permen_cD_1', 'BIS'])\n",
    "\n",
    "        return Parameters(perment_cA_4, perment_cD_4, perment_cD_3, perment_cD_2, perment_cD_1, eeg_sample.bis)\n",
    "        \n",
    "        \n",
    "    # Higuchi's Fractal Dimension: variable -> kmax\n",
    "    # Use default value in the meantime\n",
    "    if method == \"hig\":        \n",
    "        hig_cA_4 = ant.higuchi_fd(cA_4)\n",
    "        hig_cD_4 = ant.higuchi_fd(cD_4)\n",
    "        hig_cD_3 = ant.higuchi_fd(cD_3)\n",
    "        hig_cD_2 = ant.higuchi_fd(cD_2)\n",
    "        hig_cD_1 = ant.higuchi_fd(cD_1)\n",
    "\n",
    "        \n",
    "        # Create the namedtuple\n",
    "        Parameters = namedtuple('Parameters', ['Hig_cA_4', 'Hig_cD_4', 'Hig_cD_3', 'Hig_cD_2', 'Hig_cD_1', 'BIS'])\n",
    "\n",
    "        return Parameters(hig_cA_4, hig_cD_4, hig_cD_3, hig_cD_2, hig_cD_1, eeg_sample.bis)\n",
    "        \n",
    "        \n",
    "    # Katz Fractal Dimension        \n",
    "    if method == \"katz\":\n",
    "        katz_cA_4 = ant.katz_fd(cA_4)\n",
    "        katz_cD_4 = ant.katz_fd(cD_4)\n",
    "        katz_cD_3 = ant.katz_fd(cD_3)\n",
    "        katz_cD_2 = ant.katz_fd(cD_2)\n",
    "        katz_cD_1 = ant.katz_fd(cD_1)\n",
    "\n",
    "        # Create the namedtuple\n",
    "        Parameters = namedtuple('Parameters', ['Katz_cA_4', 'Katz_cD_4', 'Katz_cD_3', 'Katz_cD_2', 'Katz_cD_1', 'BIS'])\n",
    "\n",
    "        return Parameters(katz_cA_4, katz_cD_4, katz_cD_3, katz_cD_2, katz_cD_1, eeg_sample.bis)\n",
    "    \n",
    "        # Katz Fractal Dimension        \n",
    "    if method == \"mean\":\n",
    "        mean_cA_4 = np.mean(cA_4)\n",
    "        mean_cD_4 = np.mean(cD_4)\n",
    "        mean_cD_3 = np.mean(cD_3)\n",
    "        mean_cD_2 = np.mean(cD_2)\n",
    "        mean_cD_1 = np.mean(cD_1)\n",
    "\n",
    "        # Create the namedtuple\n",
    "        Parameters = namedtuple('Parameters', ['mean_cA_4', 'mean_cD_4', 'mean_cD_3', 'mean_cD_2', 'mean_cD_1', 'BIS'])\n",
    "\n",
    "        return Parameters(mean_cA_4, mean_cD_4, mean_cD_3, mean_cD_2, mean_cD_1, eeg_sample.bis)\n",
    "    \n",
    "    # All parameters\n",
    "    if method == \"all\":\n",
    "        # Let's hope we never have to do this\n",
    "        pass"
   ]
  },
  {
   "cell_type": "code",
   "execution_count": 42,
   "id": "1eb0c788",
   "metadata": {},
   "outputs": [
    {
     "data": {
      "text/plain": [
       "Parameters(mean_cA_4=-53.77704458058217, mean_cD_4=0.10537937154553981, mean_cD_3=-0.017223165805808995, mean_cD_2=0.08390882373545785, mean_cD_1=-0.06707942739515879, BIS=0.0)"
      ]
     },
     "execution_count": 42,
     "metadata": {},
     "output_type": "execute_result"
    }
   ],
   "source": [
    "generate_DWTParameters(test_sample)"
   ]
  },
  {
   "cell_type": "markdown",
   "id": "78434d11",
   "metadata": {},
   "source": [
    "# Dataset Creation\n",
    "\n",
    "In this section, the essential functions - <code>generate_samples</code>, <code>generate_DFTParameters</code>, and <code>generate_DWTParameters</code> are tested in the creation of the DFT and DWT datasets."
   ]
  },
  {
   "cell_type": "markdown",
   "id": "06a0ecd5",
   "metadata": {},
   "source": [
    "## DFT"
   ]
  },
  {
   "cell_type": "code",
   "execution_count": 43,
   "id": "71cb8b87",
   "metadata": {},
   "outputs": [
    {
     "data": {
      "text/html": [
       "<div>\n",
       "<style scoped>\n",
       "    .dataframe tbody tr th:only-of-type {\n",
       "        vertical-align: middle;\n",
       "    }\n",
       "\n",
       "    .dataframe tbody tr th {\n",
       "        vertical-align: top;\n",
       "    }\n",
       "\n",
       "    .dataframe thead th {\n",
       "        text-align: right;\n",
       "    }\n",
       "</style>\n",
       "<table border=\"1\" class=\"dataframe\">\n",
       "  <thead>\n",
       "    <tr style=\"text-align: right;\">\n",
       "      <th></th>\n",
       "      <th>Permen_Delta</th>\n",
       "      <th>Permen_Beta</th>\n",
       "      <th>Permen_Theta</th>\n",
       "      <th>Permen_Gamma</th>\n",
       "      <th>Permen_Alpha</th>\n",
       "      <th>BIS</th>\n",
       "    </tr>\n",
       "  </thead>\n",
       "  <tbody>\n",
       "    <tr>\n",
       "      <th>200</th>\n",
       "      <td>2.579538</td>\n",
       "      <td>2.572132</td>\n",
       "      <td>2.567355</td>\n",
       "      <td>2.470553</td>\n",
       "      <td>2.570891</td>\n",
       "      <td>0.0</td>\n",
       "    </tr>\n",
       "    <tr>\n",
       "      <th>201</th>\n",
       "      <td>2.579865</td>\n",
       "      <td>2.572307</td>\n",
       "      <td>2.567667</td>\n",
       "      <td>2.469947</td>\n",
       "      <td>2.571703</td>\n",
       "      <td>0.0</td>\n",
       "    </tr>\n",
       "    <tr>\n",
       "      <th>202</th>\n",
       "      <td>2.579212</td>\n",
       "      <td>2.572088</td>\n",
       "      <td>2.567320</td>\n",
       "      <td>2.469639</td>\n",
       "      <td>2.570612</td>\n",
       "      <td>0.0</td>\n",
       "    </tr>\n",
       "    <tr>\n",
       "      <th>203</th>\n",
       "      <td>2.579397</td>\n",
       "      <td>2.571767</td>\n",
       "      <td>2.567686</td>\n",
       "      <td>2.469335</td>\n",
       "      <td>2.569989</td>\n",
       "      <td>0.0</td>\n",
       "    </tr>\n",
       "    <tr>\n",
       "      <th>204</th>\n",
       "      <td>2.579299</td>\n",
       "      <td>2.571828</td>\n",
       "      <td>2.566860</td>\n",
       "      <td>2.470260</td>\n",
       "      <td>2.571638</td>\n",
       "      <td>0.0</td>\n",
       "    </tr>\n",
       "  </tbody>\n",
       "</table>\n",
       "</div>"
      ],
      "text/plain": [
       "     Permen_Delta  Permen_Beta  Permen_Theta  Permen_Gamma  Permen_Alpha  BIS\n",
       "200      2.579538     2.572132      2.567355      2.470553      2.570891  0.0\n",
       "201      2.579865     2.572307      2.567667      2.469947      2.571703  0.0\n",
       "202      2.579212     2.572088      2.567320      2.469639      2.570612  0.0\n",
       "203      2.579397     2.571767      2.567686      2.469335      2.569989  0.0\n",
       "204      2.579299     2.571828      2.566860      2.470260      2.571638  0.0"
      ]
     },
     "execution_count": 43,
     "metadata": {},
     "output_type": "execute_result"
    }
   ],
   "source": [
    "# -----\n",
    "# TEST\n",
    "# -----\n",
    "bis = bis_list\n",
    "eeg_sample = E78_copy\n",
    "\n",
    "# Generator that creates EEG samples: Read the docs if anything goes wrong\n",
    "test_gen = generate_samples(bis_list, E78_copy)\n",
    "\n",
    "# Generate the dataset: Use the permutation entropy\n",
    "df_dft = pd.DataFrame(data=[generate_DFTParameters(sample, method=\"perm_ent\") for sample in test_gen])\n",
    "\n",
    "# Modify index\n",
    "df_dft.index = df_dft.index + 200\n",
    "\n",
    "df_dft.head()"
   ]
  },
  {
   "cell_type": "code",
   "execution_count": 44,
   "id": "5cfc0762",
   "metadata": {},
   "outputs": [
    {
     "data": {
      "text/plain": [
       "[<matplotlib.lines.Line2D at 0x1970608e370>]"
      ]
     },
     "execution_count": 44,
     "metadata": {},
     "output_type": "execute_result"
    },
    {
     "data": {
      "image/png": "[encoded data removed]",
      "text/plain": [
       "<Figure size 640x480 with 1 Axes>"
      ]
     },
     "metadata": {},
     "output_type": "display_data"
    }
   ],
   "source": [
    "plt.plot(df_dft['Permen_Gamma'])"
   ]
  },
  {
   "cell_type": "markdown",
   "id": "d92f9768",
   "metadata": {},
   "source": [
    "## DWT"
   ]
  },
  {
   "cell_type": "code",
   "execution_count": 45,
   "id": "72e1e4cd",
   "metadata": {
    "hide_input": true
   },
   "outputs": [
    {
     "data": {
      "text/html": [
       "<div>\n",
       "<style scoped>\n",
       "    .dataframe tbody tr th:only-of-type {\n",
       "        vertical-align: middle;\n",
       "    }\n",
       "\n",
       "    .dataframe tbody tr th {\n",
       "        vertical-align: top;\n",
       "    }\n",
       "\n",
       "    .dataframe thead th {\n",
       "        text-align: right;\n",
       "    }\n",
       "</style>\n",
       "<table border=\"1\" class=\"dataframe\">\n",
       "  <thead>\n",
       "    <tr style=\"text-align: right;\">\n",
       "      <th></th>\n",
       "      <th>mean_cA_4</th>\n",
       "      <th>mean_cD_4</th>\n",
       "      <th>mean_cD_3</th>\n",
       "      <th>mean_cD_2</th>\n",
       "      <th>mean_cD_1</th>\n",
       "      <th>BIS</th>\n",
       "    </tr>\n",
       "  </thead>\n",
       "  <tbody>\n",
       "    <tr>\n",
       "      <th>200</th>\n",
       "      <td>-53.777045</td>\n",
       "      <td>0.105379</td>\n",
       "      <td>-0.017223</td>\n",
       "      <td>0.083909</td>\n",
       "      <td>-0.067079</td>\n",
       "      <td>0.0</td>\n",
       "    </tr>\n",
       "    <tr>\n",
       "      <th>201</th>\n",
       "      <td>-53.856790</td>\n",
       "      <td>0.111940</td>\n",
       "      <td>-0.015900</td>\n",
       "      <td>0.083719</td>\n",
       "      <td>-0.067099</td>\n",
       "      <td>0.0</td>\n",
       "    </tr>\n",
       "    <tr>\n",
       "      <th>202</th>\n",
       "      <td>-53.800732</td>\n",
       "      <td>0.110168</td>\n",
       "      <td>-0.021743</td>\n",
       "      <td>0.083607</td>\n",
       "      <td>-0.067005</td>\n",
       "      <td>0.0</td>\n",
       "    </tr>\n",
       "    <tr>\n",
       "      <th>203</th>\n",
       "      <td>-53.845990</td>\n",
       "      <td>0.102692</td>\n",
       "      <td>-0.023254</td>\n",
       "      <td>0.082975</td>\n",
       "      <td>-0.067050</td>\n",
       "      <td>0.0</td>\n",
       "    </tr>\n",
       "    <tr>\n",
       "      <th>204</th>\n",
       "      <td>-53.875013</td>\n",
       "      <td>0.111784</td>\n",
       "      <td>-0.027428</td>\n",
       "      <td>0.083300</td>\n",
       "      <td>-0.067023</td>\n",
       "      <td>0.0</td>\n",
       "    </tr>\n",
       "  </tbody>\n",
       "</table>\n",
       "</div>"
      ],
      "text/plain": [
       "     mean_cA_4  mean_cD_4  mean_cD_3  mean_cD_2  mean_cD_1  BIS\n",
       "200 -53.777045   0.105379  -0.017223   0.083909  -0.067079  0.0\n",
       "201 -53.856790   0.111940  -0.015900   0.083719  -0.067099  0.0\n",
       "202 -53.800732   0.110168  -0.021743   0.083607  -0.067005  0.0\n",
       "203 -53.845990   0.102692  -0.023254   0.082975  -0.067050  0.0\n",
       "204 -53.875013   0.111784  -0.027428   0.083300  -0.067023  0.0"
      ]
     },
     "execution_count": 45,
     "metadata": {},
     "output_type": "execute_result"
    }
   ],
   "source": [
    "# -----\n",
    "# TEST\n",
    "# -----\n",
    "\n",
    "# The data\n",
    "bis = bis_list\n",
    "denoised = E78_copy\n",
    "\n",
    "# Generator that creates EEG samples: Read the docs if anything goes wrong\n",
    "test_gen = generate_samples(bis_list, E78_copy)\n",
    "\n",
    "# Creating the dataset\n",
    "dwt_dataset = [generate_DWTParameters(sample, method=\"mean\") for sample in test_gen]\n",
    "\n",
    "# Dataset\n",
    "df_dwt = pd.DataFrame(data=dwt_dataset)\n",
    "\n",
    "# Modify index\n",
    "df_dwt.index = df_dwt.index + 200\n",
    "\n",
    "df_dwt.head()\n"
   ]
  },
  {
   "cell_type": "code",
   "execution_count": 46,
   "id": "be817db9",
   "metadata": {},
   "outputs": [
    {
     "data": {
      "text/plain": [
       "[<matplotlib.lines.Line2D at 0x1977d12efa0>]"
      ]
     },
     "execution_count": 46,
     "metadata": {},
     "output_type": "execute_result"
    },
    {
     "data": {
      "image/png": "[encoded data removed]",
      "text/plain": [
       "<Figure size 640x480 with 1 Axes>"
      ]
     },
     "metadata": {},
     "output_type": "display_data"
    }
   ],
   "source": [
    "plt.plot(df_dwt['mean_cD_1'])"
   ]
  },
  {
   "cell_type": "markdown",
   "id": "b9ea1ead",
   "metadata": {},
   "source": [
    "## <br/>"
   ]
  },
  {
   "cell_type": "code",
   "execution_count": 52,
   "id": "fb93c07b",
   "metadata": {},
   "outputs": [
    {
     "name": "stdout",
     "output_type": "stream",
     "text": [
      "[-14.8  -12.6  -13.1  ... -21.3  -21.8  -20.45]\n"
     ]
    }
   ],
   "source": [
    "# Assuming BIS and EEG are numpy arrays\n",
    "BIS = B78\n",
    "EEG = E78_copy\n",
    "\n",
    "# Define the sampling frequency\n",
    "fs = 128\n",
    "\n",
    "# Define the indices for BIS range from 200 to 800\n",
    "bis_start_index = 200\n",
    "bis_end_index = 800\n",
    "\n",
    "# Convert the BIS indices to EEG indices\n",
    "\n",
    "eeg_start_index = bis_start_index * fs\n",
    "eeg_end_index = bis_end_index * fs\n",
    "\n",
    "# Select EEG values for BIS[200:800]\n",
    "selected_EEG = EEG[eeg_start_index:eeg_end_index]\n",
    "selected_bis = BIS[bis_start_index:bis_end_index]\n",
    "selected_bis = np.array(selected_bis)\n",
    "print(selected_EEG)"
   ]
  },
  {
   "cell_type": "code",
   "execution_count": 57,
   "id": "f5d58cd9",
   "metadata": {},
   "outputs": [],
   "source": [
    "\n",
    "sampling_rate=128\n",
    "\n",
    "fft_values = np.absolute(np.fft.rfft(selected_EEG))\n",
    "\n",
    "# frequencies\n",
    "fft_freq = np.fft.rfftfreq(len(selected_EEG), 1.0/sampling_rate)\n",
    "    \n",
    "# Analysing the bands\n",
    "eeg_bands = {'Delta': (0, 4),\n",
    "                 'Theta': (4, 8),\n",
    "                 'Alpha': (8, 12),\n",
    "                 'Beta': (12, 30),\n",
    "                 'Gamma': (30, 45)}\n",
    "\n",
    "eeg_band_fft = dict()\n",
    "\n",
    "for band in eeg_bands.keys():\n",
    "    freq_idx = np.where((fft_freq >= eeg_bands[band][0]) & (fft_freq <= eeg_bands[band][1]))\n",
    "\n",
    "    # sum the amplitudes of the bands\n",
    "    eeg_band_fft[band] = fft_values[freq_idx]"
   ]
  },
  {
   "cell_type": "code",
   "execution_count": 50,
   "id": "26495aae",
   "metadata": {},
   "outputs": [
    {
     "data": {
      "text/plain": [
       "EEG_Sample(eeg=array([ -5.6,  -5.6,  -5.6, ..., -20.6, -20.2, -18.3]), bis=0.0)"
      ]
     },
     "execution_count": 50,
     "metadata": {},
     "output_type": "execute_result"
    }
   ],
   "source": [
    "test_sample"
   ]
  },
  {
   "cell_type": "code",
   "execution_count": 58,
   "id": "85a83cdb",
   "metadata": {},
   "outputs": [
    {
     "data": {
      "text/plain": [
       "(8, 12)"
      ]
     },
     "execution_count": 58,
     "metadata": {},
     "output_type": "execute_result"
    }
   ],
   "source": [
    "eeg_bands['Alpha']"
   ]
  },
  {
   "cell_type": "code",
   "execution_count": 62,
   "id": "733e065a",
   "metadata": {},
   "outputs": [
    {
     "data": {
      "text/plain": [
       "(9001,)"
      ]
     },
     "execution_count": 62,
     "metadata": {},
     "output_type": "execute_result"
    }
   ],
   "source": [
    "eeg_band_fft['Gamma'].shape"
   ]
  },
  {
   "cell_type": "code",
   "execution_count": null,
   "id": "98fb6ae5",
   "metadata": {},
   "outputs": [],
   "source": []
  },
  {
   "cell_type": "code",
   "execution_count": null,
   "id": "6093869a",
   "metadata": {},
   "outputs": [],
   "source": []
  },
  {
   "cell_type": "code",
   "execution_count": null,
   "id": "adb1b32e",
   "metadata": {},
   "outputs": [],
   "source": []
  },
  {
   "cell_type": "code",
   "execution_count": null,
   "id": "dbd1b5d7",
   "metadata": {},
   "outputs": [],
   "source": [
    "svm(train)"
   ]
  }
 ],
 "metadata": {
  "hide_input": false,
  "kernelspec": {
   "display_name": "Python 3 (ipykernel)",
   "language": "python",
   "name": "python3"
  },
  "language_info": {
   "codemirror_mode": {
    "name": "ipython",
    "version": 3
   },
   "file_extension": ".py",
   "mimetype": "text/x-python",
   "name": "python",
   "nbconvert_exporter": "python",
   "pygments_lexer": "ipython3",
   "version": "3.9.13"
  },
  "toc": {
   "base_numbering": 1,
   "nav_menu": {},
   "number_sections": false,
   "sideBar": true,
   "skip_h1_title": false,
   "title_cell": "Table of Contents",
   "title_sidebar": "Contents",
   "toc_cell": false,
   "toc_position": {},
   "toc_section_display": true,
   "toc_window_display": false
  },
  "varInspector": {
   "cols": {
    "lenName": 16,
    "lenType": 16,
    "lenVar": 40
   },
   "kernels_config": {
    "python": {
     "delete_cmd_postfix": "",
     "delete_cmd_prefix": "del ",
     "library": "var_list.py",
     "varRefreshCmd": "print(var_dic_list())"
    },
    "r": {
     "delete_cmd_postfix": ") ",
     "delete_cmd_prefix": "rm(",
     "library": "var_list.r",
     "varRefreshCmd": "cat(var_dic_list()) "
    }
   },
   "types_to_exclude": [
    "module",
    "function",
    "builtin_function_or_method",
    "instance",
    "_Feature"
   ],
   "window_display": false
  }
 },
 "nbformat": 4,
 "nbformat_minor": 5
}
