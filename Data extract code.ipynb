{
 "cells": [
  {
   "cell_type": "code",
   "execution_count": 1,
   "id": "8a770d84",
   "metadata": {},
   "outputs": [],
   "source": [
    "import numpy as np\n",
    "from scipy.io import loadmat\n",
    "import pandas as pd\n",
    "import antropy as ant\n",
    "from collections import namedtuple\n",
    "import pywt\n",
    "from math import floor\n",
    "from scipy import stats\n",
    "import matplotlib.pyplot as plt"
   ]
  },
  {
   "cell_type": "code",
   "execution_count": 2,
   "id": "e8eac475",
   "metadata": {},
   "outputs": [
    {
     "name": "stdout",
     "output_type": "stream",
     "text": [
      "C:\\Users\\61451\\Desktop\\Python Folder\\Proj prop\n"
     ]
    }
   ],
   "source": [
    "cd C:\\Users\\61451\\Desktop\\Python Folder\\Proj prop"
   ]
  },
  {
   "cell_type": "code",
   "execution_count": 3,
   "id": "d7088d97",
   "metadata": {},
   "outputs": [
    {
     "data": {
      "text/plain": [
       "(486449, 6)"
      ]
     },
     "execution_count": 3,
     "metadata": {},
     "output_type": "execute_result"
    }
   ],
   "source": [
    "Case = pd.read_excel(\"For 1 year research program tracklist(caseid_parameterName_traciID) (2).xlsx\") \n",
    "Case.shape"
   ]
  },
  {
   "cell_type": "code",
   "execution_count": 4,
   "id": "889d14c3",
   "metadata": {},
   "outputs": [],
   "source": [
    "Bis_78 = Case.loc[Case['Filename'] == 'patient_78_BIS/BIS.csv', 'Column1']\n",
    "eeg_78a = Case.loc[Case['Filename'] == 'patient_78_BIS/EEG1_WAV.csv', 'Column1']\n",
    "eeg_78b = Case.loc[Case['Filename'] == 'patient_78_BIS/EEG2_WAV.csv', 'Column1']"
   ]
  },
  {
   "cell_type": "code",
   "execution_count": 5,
   "id": "db1e0f5b",
   "metadata": {},
   "outputs": [],
   "source": [
    "Bis_92 = Case.loc[Case['Filename'] == 'patient_92_BIS/BIS.csv', 'Column1']\n",
    "eeg_92a = Case.loc[Case['Filename'] == 'patient_92_BIS/EEG1_WAV.csv', 'Column1']\n",
    "eeg_92b = Case.loc[Case['Filename'] == 'patient_92_BIS/EEG2_WAV.csv', 'Column1']"
   ]
  },
  {
   "cell_type": "code",
   "execution_count": 6,
   "id": "1747ca46",
   "metadata": {},
   "outputs": [],
   "source": [
    "Bis_112 = Case.loc[Case['Filename'] == 'patient_112_BIS/BIS.csv', 'Column1']\n",
    "eeg_112a = Case.loc[Case['Filename'] == 'patient_112_BIS/EEG1_WAV.csv', 'Column1']\n",
    "eeg_112b = Case.loc[Case['Filename'] == 'patient_112_BIS/EEG2_WAV.csv', 'Column1']"
   ]
  },
  {
   "cell_type": "code",
   "execution_count": 7,
   "id": "502aeb04",
   "metadata": {},
   "outputs": [],
   "source": [
    "Bis_1 = Case.loc[Case['Filename'] == 'patient_1_BIS/BIS.csv', 'Column1']\n",
    "eeg_1a = Case.loc[Case['Filename'] == 'patient_1_BIS/EEG1_WAV.csv', 'Column1']\n",
    "eeg_1b = Case.loc[Case['Filename'] == 'patient_1_BIS/EEG2_WAV.csv', 'Column1']"
   ]
  },
  {
   "cell_type": "code",
   "execution_count": 8,
   "id": "7c159ea5",
   "metadata": {},
   "outputs": [],
   "source": [
    "Bis_69 = Case.loc[Case['Filename'] == 'patient_69_BIS/BIS.csv', 'Column1']\n",
    "eeg_69a = Case.loc[Case['Filename'] == 'patient_69_BIS/EEG1_WAV.csv', 'Column1']\n",
    "eeg_69b = Case.loc[Case['Filename'] == 'patient_69_BIS/EEG2_WAV.csv', 'Column1']"
   ]
  },
  {
   "cell_type": "code",
   "execution_count": 9,
   "id": "317a8ade",
   "metadata": {},
   "outputs": [],
   "source": [
    "Bis_71 = Case.loc[Case['Filename'] == 'patient_71_BIS/BIS.csv', 'Column1']\n",
    "eeg_71a = Case.loc[Case['Filename'] == 'patient_71_BIS/EEG1_WAV.csv', 'Column1']\n",
    "eeg_71b = Case.loc[Case['Filename'] == 'patient_71_BIS/EEG2_WAV.csv', 'Column1']"
   ]
  },
  {
   "cell_type": "code",
   "execution_count": 10,
   "id": "77e607f5",
   "metadata": {},
   "outputs": [],
   "source": [
    "Bis_88 = Case.loc[Case['Filename'] == 'patient_88_BIS/BIS.csv', 'Column1']\n",
    "eeg_88a = Case.loc[Case['Filename'] == 'patient_88_BIS/EEG1_WAV.csv', 'Column1']\n",
    "eeg_88b = Case.loc[Case['Filename'] == 'patient_88_BIS/EEG2_WAV.csv', 'Column1']"
   ]
  },
  {
   "cell_type": "code",
   "execution_count": 11,
   "id": "de22b35e",
   "metadata": {},
   "outputs": [],
   "source": [
    "Bis_98 = Case.loc[Case['Filename'] == 'patient_98_BIS/BIS.csv', 'Column1']\n",
    "eeg_98a = Case.loc[Case['Filename'] == 'patient_98_BIS/EEG1_WAV.csv', 'Column1']\n",
    "eeg_98b = Case.loc[Case['Filename'] == 'patient_98_BIS/EEG2_WAV.csv', 'Column1']"
   ]
  },
  {
   "cell_type": "code",
   "execution_count": 12,
   "id": "534aaeac",
   "metadata": {},
   "outputs": [],
   "source": [
    "Bis_80 = Case.loc[Case['Filename'] == 'patient_80_BIS/BIS.csv', 'Column1']\n",
    "eeg_80a = Case.loc[Case['Filename'] == 'patient_80_BIS/EEG1_WAV.csv', 'Column1']\n",
    "eeg_80b = Case.loc[Case['Filename'] == 'patient_80_BIS/EEG2_WAV.csv', 'Column1']"
   ]
  },
  {
   "cell_type": "code",
   "execution_count": 13,
   "id": "44009bd1",
   "metadata": {},
   "outputs": [],
   "source": [
    "Bis_147 = Case.loc[Case['Filename'] == 'patient_147_BIS/BIS.csv', 'Column1']\n",
    "eeg_147a = Case.loc[Case['Filename'] == 'patient_147_BIS/EEG1_WAV.csv', 'Column1']\n",
    "eeg_147b = Case.loc[Case['Filename'] == 'patient_147_BIS/EEG2_WAV.csv', 'Column1']"
   ]
  },
  {
   "cell_type": "code",
   "execution_count": 14,
   "id": "e36b0650",
   "metadata": {},
   "outputs": [],
   "source": [
    "Bis_129 = Case.loc[Case['Filename'] == 'patient_129_BIS/BIS.csv', 'Column1']\n",
    "eeg_129a = Case.loc[Case['Filename'] == 'patient_129_BIS/EEG1_WAV.csv', 'Column1']\n",
    "eeg_129b = Case.loc[Case['Filename'] == 'patient_129_BIS/EEG2_WAV.csv', 'Column1']"
   ]
  },
  {
   "cell_type": "code",
   "execution_count": 15,
   "id": "3ac70f39",
   "metadata": {},
   "outputs": [],
   "source": [
    "Bis_100 = Case.loc[Case['Filename'] == 'patient_100_BIS/BIS.csv', 'Column1']\n",
    "eeg_100a = Case.loc[Case['Filename'] == 'patient_100_BIS/EEG1_WAV.csv', 'Column1']\n",
    "eeg_100b = Case.loc[Case['Filename'] == 'patient_100_BIS/EEG2_WAV.csv', 'Column1']"
   ]
  },
  {
   "cell_type": "code",
   "execution_count": 16,
   "id": "eef46af8",
   "metadata": {},
   "outputs": [],
   "source": [
    "Bis_76 = Case.loc[Case['Filename'] == 'patient_76_BIS/BIS.csv', 'Column1']\n",
    "eeg_76a = Case.loc[Case['Filename'] == 'patient_76_BIS/EEG1_WAV.csv', 'Column1']\n",
    "eeg_76b = Case.loc[Case['Filename'] == 'patient_76_BIS/EEG2_WAV.csv', 'Column1']"
   ]
  },
  {
   "cell_type": "code",
   "execution_count": 17,
   "id": "26729974",
   "metadata": {},
   "outputs": [],
   "source": [
    "Bis_72 = Case.loc[Case['Filename'] == 'patient_72_BIS/BIS.csv', 'Column1']\n",
    "eeg_72a = Case.loc[Case['Filename'] == 'patient_72_BIS/EEG1_WAV.csv', 'Column1']\n",
    "eeg_72b = Case.loc[Case['Filename'] == 'patient_72_BIS/EEG2_WAV.csv', 'Column1']"
   ]
  },
  {
   "cell_type": "code",
   "execution_count": 18,
   "id": "a20c999a",
   "metadata": {},
   "outputs": [],
   "source": [
    "Bis_148 = Case.loc[Case['Filename'] == 'patient_148_BIS/BIS.csv', 'Column1']\n",
    "eeg_148a = Case.loc[Case['Filename'] == 'patient_148_BIS/EEG1_WAV.csv', 'Column1']\n",
    "eeg_148b = Case.loc[Case['Filename'] == 'patient_148_BIS/EEG2_WAV.csv', 'Column1']"
   ]
  },
  {
   "cell_type": "code",
   "execution_count": 19,
   "id": "5451efad",
   "metadata": {},
   "outputs": [],
   "source": [
    "def read_data (data):\n",
    "    for i in data:\n",
    "        t=pd.read_csv(i)\n",
    "        return t"
   ]
  },
  {
   "cell_type": "code",
   "execution_count": 20,
   "id": "4418eac1",
   "metadata": {},
   "outputs": [],
   "source": [
    "bis_92 = read_data(Bis_92)\n",
    "bis_112 = read_data(Bis_112)"
   ]
  },
  {
   "cell_type": "code",
   "execution_count": 21,
   "id": "d47592c3",
   "metadata": {},
   "outputs": [
    {
     "data": {
      "text/html": [
       "<div>\n",
       "<style scoped>\n",
       "    .dataframe tbody tr th:only-of-type {\n",
       "        vertical-align: middle;\n",
       "    }\n",
       "\n",
       "    .dataframe tbody tr th {\n",
       "        vertical-align: top;\n",
       "    }\n",
       "\n",
       "    .dataframe thead th {\n",
       "        text-align: right;\n",
       "    }\n",
       "</style>\n",
       "<table border=\"1\" class=\"dataframe\">\n",
       "  <thead>\n",
       "    <tr style=\"text-align: right;\">\n",
       "      <th></th>\n",
       "      <th>Time</th>\n",
       "      <th>BIS/BIS</th>\n",
       "    </tr>\n",
       "  </thead>\n",
       "  <tbody>\n",
       "    <tr>\n",
       "      <th>0</th>\n",
       "      <td>1.58381</td>\n",
       "      <td>0.0</td>\n",
       "    </tr>\n",
       "    <tr>\n",
       "      <th>1</th>\n",
       "      <td>2.58381</td>\n",
       "      <td>0.0</td>\n",
       "    </tr>\n",
       "    <tr>\n",
       "      <th>2</th>\n",
       "      <td>3.58381</td>\n",
       "      <td>0.0</td>\n",
       "    </tr>\n",
       "    <tr>\n",
       "      <th>3</th>\n",
       "      <td>4.58381</td>\n",
       "      <td>0.0</td>\n",
       "    </tr>\n",
       "    <tr>\n",
       "      <th>4</th>\n",
       "      <td>5.58381</td>\n",
       "      <td>0.0</td>\n",
       "    </tr>\n",
       "    <tr>\n",
       "      <th>...</th>\n",
       "      <td>...</td>\n",
       "      <td>...</td>\n",
       "    </tr>\n",
       "    <tr>\n",
       "      <th>10732</th>\n",
       "      <td>10733.60000</td>\n",
       "      <td>0.0</td>\n",
       "    </tr>\n",
       "    <tr>\n",
       "      <th>10733</th>\n",
       "      <td>10734.60000</td>\n",
       "      <td>0.0</td>\n",
       "    </tr>\n",
       "    <tr>\n",
       "      <th>10734</th>\n",
       "      <td>10735.60000</td>\n",
       "      <td>0.0</td>\n",
       "    </tr>\n",
       "    <tr>\n",
       "      <th>10735</th>\n",
       "      <td>10736.60000</td>\n",
       "      <td>0.0</td>\n",
       "    </tr>\n",
       "    <tr>\n",
       "      <th>10736</th>\n",
       "      <td>10737.60000</td>\n",
       "      <td>0.0</td>\n",
       "    </tr>\n",
       "  </tbody>\n",
       "</table>\n",
       "<p>10737 rows × 2 columns</p>\n",
       "</div>"
      ],
      "text/plain": [
       "              Time  BIS/BIS\n",
       "0          1.58381      0.0\n",
       "1          2.58381      0.0\n",
       "2          3.58381      0.0\n",
       "3          4.58381      0.0\n",
       "4          5.58381      0.0\n",
       "...            ...      ...\n",
       "10732  10733.60000      0.0\n",
       "10733  10734.60000      0.0\n",
       "10734  10735.60000      0.0\n",
       "10735  10736.60000      0.0\n",
       "10736  10737.60000      0.0\n",
       "\n",
       "[10737 rows x 2 columns]"
      ]
     },
     "execution_count": 21,
     "metadata": {},
     "output_type": "execute_result"
    }
   ],
   "source": [
    "bis_112"
   ]
  },
  {
   "cell_type": "code",
   "execution_count": 22,
   "id": "018b4112",
   "metadata": {},
   "outputs": [
    {
     "data": {
      "text/plain": [
       "(10737, 2)"
      ]
     },
     "execution_count": 22,
     "metadata": {},
     "output_type": "execute_result"
    }
   ],
   "source": [
    "bis_112.shape"
   ]
  },
  {
   "cell_type": "code",
   "execution_count": 23,
   "id": "0cb40983",
   "metadata": {},
   "outputs": [
    {
     "data": {
      "text/plain": [
       "(4718, 2)"
      ]
     },
     "execution_count": 23,
     "metadata": {},
     "output_type": "execute_result"
    }
   ],
   "source": [
    "bis_92.shape"
   ]
  },
  {
   "cell_type": "code",
   "execution_count": 24,
   "id": "94457b23",
   "metadata": {},
   "outputs": [],
   "source": [
    "bis_78 = read_data(Bis_78)\n",
    "bis_92 = read_data(Bis_92)\n",
    "bis_112 = read_data(Bis_112)\n",
    "eeg_78_CH1 = read_data(eeg_78a)\n",
    "eeg_92_CH1= read_data(eeg_92a)\n",
    "eeg_112_CH1 = read_data(eeg_112a)\n",
    "eeg_78_CH2 = read_data(eeg_78b)\n",
    "eeg_92_CH2= read_data(eeg_92b)\n",
    "eeg_112_CH2 = read_data(eeg_112b)"
   ]
  },
  {
   "cell_type": "code",
   "execution_count": 25,
   "id": "3c49c64e",
   "metadata": {},
   "outputs": [],
   "source": [
    "bis_72 = read_data(Bis_72)\n",
    "bis_76 = read_data(Bis_76)\n",
    "bis_148 = read_data(Bis_148)\n",
    "\n",
    "eeg_72_CH1 = read_data(eeg_72a)\n",
    "eeg_76_CH1 = read_data(eeg_76a)\n",
    "eeg_148_CH1 = read_data(eeg_148a)\n",
    "\n",
    "eeg_72_CH2 = read_data(eeg_72b)\n",
    "eeg_76_CH2 = read_data(eeg_76b)\n",
    "eeg_148_CH2 = read_data(eeg_148b)"
   ]
  },
  {
   "cell_type": "code",
   "execution_count": 26,
   "id": "31712c91",
   "metadata": {},
   "outputs": [
    {
     "data": {
      "text/plain": [
       "(1645378, 2)"
      ]
     },
     "execution_count": 26,
     "metadata": {},
     "output_type": "execute_result"
    }
   ],
   "source": [
    "eeg_148_CH2.shape"
   ]
  },
  {
   "cell_type": "code",
   "execution_count": 27,
   "id": "3cdad80b",
   "metadata": {},
   "outputs": [],
   "source": [
    "bis_1 = read_data(Bis_1)\n",
    "bis_71 = read_data(Bis_71)\n",
    "bis_100 = read_data(Bis_100)\n",
    "bis_129 = read_data(Bis_129)\n",
    "bis_69 = read_data(Bis_69)\n",
    "bis_80 = read_data(Bis_80)\n",
    "bis_147 = read_data(Bis_147)\n",
    "bis_88 = read_data(Bis_88)\n",
    "bis_98 = read_data(Bis_98)\n",
    "\n",
    "eeg_1_CH1 = read_data(eeg_1a)\n",
    "eeg_71_CH1= read_data(eeg_71a)\n",
    "eeg_100_CH1 = read_data(eeg_100a)\n",
    "eeg_129_CH1 = read_data(eeg_129a)\n",
    "eeg_69_CH1= read_data(eeg_69a)\n",
    "eeg_80_CH1 = read_data(eeg_80a)\n",
    "eeg_147_CH1 = read_data(eeg_147a)\n",
    "eeg_88_CH1= read_data(eeg_88a)\n",
    "eeg_98_CH1 = read_data(eeg_98a)\n",
    "\n",
    "eeg_1_CH2 = read_data(eeg_1b)\n",
    "eeg_71_CH2= read_data(eeg_71b)\n",
    "eeg_100_CH2 = read_data(eeg_100b)\n",
    "eeg_129_CH2 = read_data(eeg_129b)\n",
    "eeg_69_CH2= read_data(eeg_69b)\n",
    "eeg_80_CH2 = read_data(eeg_80b)\n",
    "eeg_147_CH2 = read_data(eeg_147b)\n",
    "eeg_88_CH2= read_data(eeg_88b)\n",
    "eeg_98_CH2 = read_data(eeg_98b)"
   ]
  },
  {
   "cell_type": "code",
   "execution_count": 28,
   "id": "b64b68ad",
   "metadata": {},
   "outputs": [
    {
     "data": {
      "text/plain": [
       "(1374698, 2)"
      ]
     },
     "execution_count": 28,
     "metadata": {},
     "output_type": "execute_result"
    }
   ],
   "source": [
    "eeg_112_CH2.shape"
   ]
  },
  {
   "cell_type": "code",
   "execution_count": 29,
   "id": "ebca64c2",
   "metadata": {},
   "outputs": [],
   "source": [
    "bis_72.to_csv('bis_72.csv', index=False)\n",
    "bis_76.to_csv('bis_76.csv', index=False)\n",
    "bis_148.to_csv('bis_148.csv', index=False)\n",
    "eeg_72_CH1.to_csv('EEG_72_CH1.csv', index=False)\n",
    "eeg_76_CH1.to_csv('EEG_76_CH1.csv', index=False)\n",
    "eeg_148_CH1.to_csv('EEG_148_CH1.csv', index=False)\n",
    "eeg_72_CH2.to_csv('EEG_72_CH2.csv', index=False)\n",
    "eeg_76_CH2.to_csv('EEG_76_CH2.csv', index=False)\n",
    "eeg_148_CH2.to_csv('EEG_148_CH2.csv', index=False)"
   ]
  },
  {
   "cell_type": "code",
   "execution_count": 30,
   "id": "d064e030",
   "metadata": {},
   "outputs": [],
   "source": [
    "bis_78.to_csv('bis_78.csv', index=False)\n",
    "bis_92.to_csv('bis_92.csv', index=False)\n",
    "bis_112.to_csv('bis_112.csv', index=False)\n",
    "eeg_78_CH1.to_csv('EEG_78_CH1.csv', index=False)\n",
    "eeg_92_CH1.to_csv('EEG_92_CH1.csv', index=False)\n",
    "eeg_112_CH1.to_csv('EEG_112_CH1.csv', index=False)\n",
    "eeg_78_CH2.to_csv('EEG_78_CH2.csv', index=False)\n",
    "eeg_92_CH2.to_csv('EEG_92_CH2.csv', index=False)\n",
    "eeg_112_CH2.to_csv('EEG_112_CH2.csv', index=False)"
   ]
  },
  {
   "cell_type": "code",
   "execution_count": 31,
   "id": "1ac67774",
   "metadata": {},
   "outputs": [],
   "source": [
    "bis_1.to_csv('bis_1.csv', index=False)\n",
    "bis_71.to_csv('bis_71.csv', index=False)\n",
    "bis_100.to_csv('bis_100.csv', index=False)\n",
    "bis_88.to_csv('bis_88.csv', index=False)\n",
    "bis_69.to_csv('bis_69.csv', index=False)\n",
    "bis_129.to_csv('bis_129.csv', index=False)\n",
    "bis_147.to_csv('bis_147.csv', index=False)\n",
    "bis_98.to_csv('bis_98.csv', index=False)\n",
    "bis_80.to_csv('bis_80.csv', index=False)\n",
    "\n",
    "\n",
    "eeg_1_CH1.to_csv('EEG_1_CH1.csv', index=False)\n",
    "eeg_71_CH1.to_csv('EEG_71_CH1.csv', index=False)\n",
    "eeg_100_CH1.to_csv('EEG_100_CH1.csv', index=False)\n",
    "eeg_88_CH1.to_csv('EEG_88_CH1.csv', index=False)\n",
    "eeg_69_CH1.to_csv('EEG_69_CH1.csv', index=False)\n",
    "eeg_129_CH1.to_csv('EEG_129_CH1.csv', index=False)\n",
    "eeg_147_CH1.to_csv('EEG_147_CH1.csv', index=False)\n",
    "eeg_98_CH1.to_csv('EEG_98_CH1.csv', index=False)\n",
    "eeg_80_CH1.to_csv('EEG_80_CH1.csv', index=False)\n",
    "\n",
    "eeg_1_CH2.to_csv('EEG_1_CH2.csv', index=False)\n",
    "eeg_71_CH2.to_csv('EEG_71_CH2.csv', index=False)\n",
    "eeg_100_CH2.to_csv('EEG_100_CH2.csv', index=False)\n",
    "eeg_88_CH2.to_csv('EEG_88_CH2.csv', index=False)\n",
    "eeg_69_CH2.to_csv('EEG_69_CH2.csv', index=False)\n",
    "eeg_129_CH2.to_csv('EEG_129_CH2.csv', index=False)\n",
    "eeg_147_CH2.to_csv('EEG_147_CH2.csv', index=False)\n",
    "eeg_98_CH2.to_csv('EEG_98_CH2.csv', index=False)\n",
    "eeg_80_CH2.to_csv('EEG_80_CH2.csv', index=False)"
   ]
  },
  {
   "cell_type": "code",
   "execution_count": 32,
   "id": "ef2f28a3",
   "metadata": {
    "scrolled": false
   },
   "outputs": [
    {
     "data": {
      "text/html": [
       "<div>\n",
       "<style scoped>\n",
       "    .dataframe tbody tr th:only-of-type {\n",
       "        vertical-align: middle;\n",
       "    }\n",
       "\n",
       "    .dataframe tbody tr th {\n",
       "        vertical-align: top;\n",
       "    }\n",
       "\n",
       "    .dataframe thead th {\n",
       "        text-align: right;\n",
       "    }\n",
       "</style>\n",
       "<table border=\"1\" class=\"dataframe\">\n",
       "  <thead>\n",
       "    <tr style=\"text-align: right;\">\n",
       "      <th></th>\n",
       "      <th>Time</th>\n",
       "      <th>BIS/EEG2_WAV</th>\n",
       "    </tr>\n",
       "  </thead>\n",
       "  <tbody>\n",
       "    <tr>\n",
       "      <th>0</th>\n",
       "      <td>0.000000</td>\n",
       "      <td>27.00</td>\n",
       "    </tr>\n",
       "    <tr>\n",
       "      <th>1</th>\n",
       "      <td>0.007812</td>\n",
       "      <td>27.20</td>\n",
       "    </tr>\n",
       "    <tr>\n",
       "      <th>2</th>\n",
       "      <td>NaN</td>\n",
       "      <td>27.30</td>\n",
       "    </tr>\n",
       "    <tr>\n",
       "      <th>3</th>\n",
       "      <td>NaN</td>\n",
       "      <td>27.30</td>\n",
       "    </tr>\n",
       "    <tr>\n",
       "      <th>4</th>\n",
       "      <td>NaN</td>\n",
       "      <td>27.75</td>\n",
       "    </tr>\n",
       "  </tbody>\n",
       "</table>\n",
       "</div>"
      ],
      "text/plain": [
       "       Time  BIS/EEG2_WAV\n",
       "0  0.000000         27.00\n",
       "1  0.007812         27.20\n",
       "2       NaN         27.30\n",
       "3       NaN         27.30\n",
       "4       NaN         27.75"
      ]
     },
     "execution_count": 32,
     "metadata": {},
     "output_type": "execute_result"
    }
   ],
   "source": [
    "rt = pd.read_csv('eeg_147_CH2.csv')\n",
    "rt.head()"
   ]
  },
  {
   "cell_type": "code",
   "execution_count": 33,
   "id": "33e5278b",
   "metadata": {
    "scrolled": true
   },
   "outputs": [
    {
     "data": {
      "text/html": [
       "<div>\n",
       "<style scoped>\n",
       "    .dataframe tbody tr th:only-of-type {\n",
       "        vertical-align: middle;\n",
       "    }\n",
       "\n",
       "    .dataframe tbody tr th {\n",
       "        vertical-align: top;\n",
       "    }\n",
       "\n",
       "    .dataframe thead th {\n",
       "        text-align: right;\n",
       "    }\n",
       "</style>\n",
       "<table border=\"1\" class=\"dataframe\">\n",
       "  <thead>\n",
       "    <tr style=\"text-align: right;\">\n",
       "      <th></th>\n",
       "      <th>Time</th>\n",
       "      <th>BIS/BIS</th>\n",
       "    </tr>\n",
       "  </thead>\n",
       "  <tbody>\n",
       "    <tr>\n",
       "      <th>0</th>\n",
       "      <td>0.293</td>\n",
       "      <td>0.0</td>\n",
       "    </tr>\n",
       "    <tr>\n",
       "      <th>1</th>\n",
       "      <td>1.293</td>\n",
       "      <td>0.0</td>\n",
       "    </tr>\n",
       "    <tr>\n",
       "      <th>2</th>\n",
       "      <td>2.293</td>\n",
       "      <td>0.0</td>\n",
       "    </tr>\n",
       "    <tr>\n",
       "      <th>3</th>\n",
       "      <td>3.293</td>\n",
       "      <td>0.0</td>\n",
       "    </tr>\n",
       "    <tr>\n",
       "      <th>4</th>\n",
       "      <td>4.293</td>\n",
       "      <td>0.0</td>\n",
       "    </tr>\n",
       "  </tbody>\n",
       "</table>\n",
       "</div>"
      ],
      "text/plain": [
       "    Time  BIS/BIS\n",
       "0  0.293      0.0\n",
       "1  1.293      0.0\n",
       "2  2.293      0.0\n",
       "3  3.293      0.0\n",
       "4  4.293      0.0"
      ]
     },
     "execution_count": 33,
     "metadata": {},
     "output_type": "execute_result"
    }
   ],
   "source": [
    "rt = pd.read_csv('bis_69.csv')\n",
    "rt.head()"
   ]
  },
  {
   "cell_type": "code",
   "execution_count": 34,
   "id": "b8879738",
   "metadata": {},
   "outputs": [
    {
     "data": {
      "text/plain": [
       "[<matplotlib.lines.Line2D at 0x1913e492670>]"
      ]
     },
     "execution_count": 34,
     "metadata": {},
     "output_type": "execute_result"
    },
    {
     "data": {
      "image/png": "[encoded data removed]",
      "text/plain": [
       "<Figure size 640x480 with 1 Axes>"
      ]
     },
     "metadata": {},
     "output_type": "display_data"
    }
   ],
   "source": [
    "plt.plot(rt[\"BIS/BIS\"])"
   ]
  },
  {
   "cell_type": "code",
   "execution_count": 35,
   "id": "e47c8607",
   "metadata": {},
   "outputs": [
    {
     "data": {
      "text/html": [
       "<div>\n",
       "<style scoped>\n",
       "    .dataframe tbody tr th:only-of-type {\n",
       "        vertical-align: middle;\n",
       "    }\n",
       "\n",
       "    .dataframe tbody tr th {\n",
       "        vertical-align: top;\n",
       "    }\n",
       "\n",
       "    .dataframe thead th {\n",
       "        text-align: right;\n",
       "    }\n",
       "</style>\n",
       "<table border=\"1\" class=\"dataframe\">\n",
       "  <thead>\n",
       "    <tr style=\"text-align: right;\">\n",
       "      <th></th>\n",
       "      <th>Time</th>\n",
       "      <th>BIS/EEG2_WAV</th>\n",
       "    </tr>\n",
       "  </thead>\n",
       "  <tbody>\n",
       "    <tr>\n",
       "      <th>0</th>\n",
       "      <td>0.000000</td>\n",
       "      <td>-0.75</td>\n",
       "    </tr>\n",
       "    <tr>\n",
       "      <th>1</th>\n",
       "      <td>0.007812</td>\n",
       "      <td>-2.10</td>\n",
       "    </tr>\n",
       "    <tr>\n",
       "      <th>2</th>\n",
       "      <td>NaN</td>\n",
       "      <td>-1.20</td>\n",
       "    </tr>\n",
       "    <tr>\n",
       "      <th>3</th>\n",
       "      <td>NaN</td>\n",
       "      <td>-1.55</td>\n",
       "    </tr>\n",
       "    <tr>\n",
       "      <th>4</th>\n",
       "      <td>NaN</td>\n",
       "      <td>-13.05</td>\n",
       "    </tr>\n",
       "    <tr>\n",
       "      <th>...</th>\n",
       "      <td>...</td>\n",
       "      <td>...</td>\n",
       "    </tr>\n",
       "    <tr>\n",
       "      <th>530768</th>\n",
       "      <td>NaN</td>\n",
       "      <td>NaN</td>\n",
       "    </tr>\n",
       "    <tr>\n",
       "      <th>530769</th>\n",
       "      <td>NaN</td>\n",
       "      <td>NaN</td>\n",
       "    </tr>\n",
       "    <tr>\n",
       "      <th>530770</th>\n",
       "      <td>NaN</td>\n",
       "      <td>NaN</td>\n",
       "    </tr>\n",
       "    <tr>\n",
       "      <th>530771</th>\n",
       "      <td>NaN</td>\n",
       "      <td>NaN</td>\n",
       "    </tr>\n",
       "    <tr>\n",
       "      <th>530772</th>\n",
       "      <td>4146.660000</td>\n",
       "      <td>NaN</td>\n",
       "    </tr>\n",
       "  </tbody>\n",
       "</table>\n",
       "<p>530773 rows × 2 columns</p>\n",
       "</div>"
      ],
      "text/plain": [
       "               Time  BIS/EEG2_WAV\n",
       "0          0.000000         -0.75\n",
       "1          0.007812         -2.10\n",
       "2               NaN         -1.20\n",
       "3               NaN         -1.55\n",
       "4               NaN        -13.05\n",
       "...             ...           ...\n",
       "530768          NaN           NaN\n",
       "530769          NaN           NaN\n",
       "530770          NaN           NaN\n",
       "530771          NaN           NaN\n",
       "530772  4146.660000           NaN\n",
       "\n",
       "[530773 rows x 2 columns]"
      ]
     },
     "execution_count": 35,
     "metadata": {},
     "output_type": "execute_result"
    }
   ],
   "source": [
    "\n",
    "eegb = Case.loc[Case['Filename'] == 'patient_100_BIS/EEG2_WAV.csv', 'Column1']\n",
    "\n",
    "def read_data (data):\n",
    "    for i in data:\n",
    "        t=pd.read_csv(i)\n",
    "        return t\n",
    "\n",
    "eb = read_data(eegb)\n",
    "eb"
   ]
  },
  {
   "cell_type": "code",
   "execution_count": null,
   "id": "2010fe44",
   "metadata": {},
   "outputs": [],
   "source": []
  },
  {
   "cell_type": "code",
   "execution_count": null,
   "id": "04bb37b4",
   "metadata": {},
   "outputs": [],
   "source": []
  },
  {
   "cell_type": "code",
   "execution_count": 36,
   "id": "dc156de5",
   "metadata": {},
   "outputs": [
    {
     "data": {
      "text/html": [
       "<div>\n",
       "<style scoped>\n",
       "    .dataframe tbody tr th:only-of-type {\n",
       "        vertical-align: middle;\n",
       "    }\n",
       "\n",
       "    .dataframe tbody tr th {\n",
       "        vertical-align: top;\n",
       "    }\n",
       "\n",
       "    .dataframe thead th {\n",
       "        text-align: right;\n",
       "    }\n",
       "</style>\n",
       "<table border=\"1\" class=\"dataframe\">\n",
       "  <thead>\n",
       "    <tr style=\"text-align: right;\">\n",
       "      <th></th>\n",
       "      <th>Time</th>\n",
       "      <th>BIS/EEG2_WAV</th>\n",
       "    </tr>\n",
       "  </thead>\n",
       "  <tbody>\n",
       "    <tr>\n",
       "      <th>0</th>\n",
       "      <td>0.000000</td>\n",
       "      <td>-0.75</td>\n",
       "    </tr>\n",
       "    <tr>\n",
       "      <th>1</th>\n",
       "      <td>0.007812</td>\n",
       "      <td>-2.10</td>\n",
       "    </tr>\n",
       "    <tr>\n",
       "      <th>2</th>\n",
       "      <td>NaN</td>\n",
       "      <td>-1.20</td>\n",
       "    </tr>\n",
       "    <tr>\n",
       "      <th>3</th>\n",
       "      <td>NaN</td>\n",
       "      <td>-1.55</td>\n",
       "    </tr>\n",
       "    <tr>\n",
       "      <th>4</th>\n",
       "      <td>NaN</td>\n",
       "      <td>-13.05</td>\n",
       "    </tr>\n",
       "    <tr>\n",
       "      <th>...</th>\n",
       "      <td>...</td>\n",
       "      <td>...</td>\n",
       "    </tr>\n",
       "    <tr>\n",
       "      <th>530768</th>\n",
       "      <td>NaN</td>\n",
       "      <td>NaN</td>\n",
       "    </tr>\n",
       "    <tr>\n",
       "      <th>530769</th>\n",
       "      <td>NaN</td>\n",
       "      <td>NaN</td>\n",
       "    </tr>\n",
       "    <tr>\n",
       "      <th>530770</th>\n",
       "      <td>NaN</td>\n",
       "      <td>NaN</td>\n",
       "    </tr>\n",
       "    <tr>\n",
       "      <th>530771</th>\n",
       "      <td>NaN</td>\n",
       "      <td>NaN</td>\n",
       "    </tr>\n",
       "    <tr>\n",
       "      <th>530772</th>\n",
       "      <td>4146.660000</td>\n",
       "      <td>NaN</td>\n",
       "    </tr>\n",
       "  </tbody>\n",
       "</table>\n",
       "<p>530773 rows × 2 columns</p>\n",
       "</div>"
      ],
      "text/plain": [
       "               Time  BIS/EEG2_WAV\n",
       "0          0.000000         -0.75\n",
       "1          0.007812         -2.10\n",
       "2               NaN         -1.20\n",
       "3               NaN         -1.55\n",
       "4               NaN        -13.05\n",
       "...             ...           ...\n",
       "530768          NaN           NaN\n",
       "530769          NaN           NaN\n",
       "530770          NaN           NaN\n",
       "530771          NaN           NaN\n",
       "530772  4146.660000           NaN\n",
       "\n",
       "[530773 rows x 2 columns]"
      ]
     },
     "execution_count": 36,
     "metadata": {},
     "output_type": "execute_result"
    }
   ],
   "source": [
    "eb"
   ]
  },
  {
   "cell_type": "code",
   "execution_count": 42,
   "id": "14d1b5a8",
   "metadata": {},
   "outputs": [],
   "source": [
    "Bis_109 = Case.loc[Case['Filename'] == 'patient_109_BIS/BIS.csv', 'Column1']\n",
    "eeg_109a = Case.loc[Case['Filename'] == 'patient_109_BIS/EEG1_WAV.csv', 'Column1']\n",
    "eeg_109b = Case.loc[Case['Filename'] == 'patient_109_BIS/EEG2_WAV.csv', 'Column1']\n",
    "def read_data (data):\n",
    "    for i in data:\n",
    "        t=pd.read_csv(i)\n",
    "        return t\n",
    "bis_109 = read_data(Bis_109)\n",
    "eeg_109_CH1 = read_data(eeg_109a)\n",
    "eeg_109_CH2 = read_data(eeg_109b)\n"
   ]
  },
  {
   "cell_type": "code",
   "execution_count": 43,
   "id": "7448c55f",
   "metadata": {},
   "outputs": [],
   "source": [
    "bis_109.to_csv('bis_109.csv', index=False)\n",
    "eeg_109_CH1.to_csv('EEG_109_CH1.csv', index=False)\n",
    "eeg_109_CH2.to_csv('EEG_109_CH2.csv', index=False)"
   ]
  },
  {
   "cell_type": "code",
   "execution_count": 44,
   "id": "91c5ce94",
   "metadata": {},
   "outputs": [],
   "source": [
    "Bis_97 = Case.loc[Case['Filename'] == 'patient_97_BIS/BIS.csv', 'Column1']\n",
    "eeg_97a = Case.loc[Case['Filename'] == 'patient_97_BIS/EEG1_WAV.csv', 'Column1']\n",
    "eeg_97b = Case.loc[Case['Filename'] == 'patient_97_BIS/EEG2_WAV.csv', 'Column1']\n",
    "def read_data (data):\n",
    "    for i in data:\n",
    "        t=pd.read_csv(i)\n",
    "        return t\n",
    "bis_97 = read_data(Bis_97)\n",
    "eeg_97_CH1 = read_data(eeg_97a)\n",
    "eeg_97_CH2 = read_data(eeg_97b)"
   ]
  },
  {
   "cell_type": "code",
   "execution_count": 45,
   "id": "73a10c90",
   "metadata": {},
   "outputs": [],
   "source": [
    "bis_97.to_csv('bis_97.csv', index=False)\n",
    "eeg_97_CH1.to_csv('EEG_97_CH1.csv', index=False)\n",
    "eeg_97_CH2.to_csv('EEG_97_CH2.csv', index=False)"
   ]
  },
  {
   "cell_type": "code",
   "execution_count": 46,
   "id": "06289460",
   "metadata": {},
   "outputs": [],
   "source": [
    "Bis_66 = Case.loc[Case['Filename'] == 'patient_66_BIS/BIS.csv', 'Column1']\n",
    "eeg_66a = Case.loc[Case['Filename'] == 'patient_66_BIS/EEG1_WAV.csv', 'Column1']\n",
    "eeg_66b = Case.loc[Case['Filename'] == 'patient_66_BIS/EEG2_WAV.csv', 'Column1']\n",
    "def read_data (data):\n",
    "    for i in data:\n",
    "        t=pd.read_csv(i)\n",
    "        return t\n",
    "bis_66 = read_data(Bis_66)\n",
    "eeg_66_CH1 = read_data(eeg_66a)\n",
    "eeg_66_CH2 = read_data(eeg_66b)"
   ]
  },
  {
   "cell_type": "code",
   "execution_count": 47,
   "id": "f7c9d57c",
   "metadata": {},
   "outputs": [],
   "source": [
    "bis_66.to_csv('bis_66.csv', index=False)\n",
    "eeg_66_CH1.to_csv('EEG_66_CH1.csv', index=False)\n",
    "eeg_66_CH2.to_csv('EEG_66_CH2.csv', index=False)"
   ]
  },
  {
   "cell_type": "code",
   "execution_count": 48,
   "id": "2b86d850",
   "metadata": {},
   "outputs": [],
   "source": [
    "Bis_68 = Case.loc[Case['Filename'] == 'patient_68_BIS/BIS.csv', 'Column1']\n",
    "eeg_68a = Case.loc[Case['Filename'] == 'patient_68_BIS/EEG1_WAV.csv', 'Column1']\n",
    "eeg_68b = Case.loc[Case['Filename'] == 'patient_68_BIS/EEG2_WAV.csv', 'Column1']\n",
    "def read_data (data):\n",
    "    for i in data:\n",
    "        t=pd.read_csv(i)\n",
    "        return t\n",
    "bis_68 = read_data(Bis_68)\n",
    "eeg_68_CH1 = read_data(eeg_68a)\n",
    "eeg_68_CH2 = read_data(eeg_68b)"
   ]
  },
  {
   "cell_type": "code",
   "execution_count": 49,
   "id": "bb795f01",
   "metadata": {},
   "outputs": [],
   "source": [
    "bis_68.to_csv('bis_68.csv', index=False)\n",
    "eeg_68_CH1.to_csv('EEG_68_CH1.csv', index=False)\n",
    "eeg_68_CH2.to_csv('EEG_68_CH2.csv', index=False)"
   ]
  },
  {
   "cell_type": "code",
   "execution_count": 4,
   "id": "e736fb14",
   "metadata": {},
   "outputs": [],
   "source": [
    "Bis_14 = Case.loc[Case['Filename'] == 'patient_14_BIS/BIS.csv', 'Column1']\n",
    "eeg_14a = Case.loc[Case['Filename'] == 'patient_14_BIS/EEG1_WAV.csv', 'Column1']\n",
    "eeg_14b = Case.loc[Case['Filename'] == 'patient_14_BIS/EEG2_WAV.csv', 'Column1']\n",
    "def read_data (data):\n",
    "    for i in data:\n",
    "        t=pd.read_csv(i)\n",
    "        return t\n",
    "bis_14 = read_data(Bis_14)\n",
    "eeg_14_CH1 = read_data(eeg_14a)\n",
    "eeg_14_CH2 = read_data(eeg_14b)"
   ]
  },
  {
   "cell_type": "code",
   "execution_count": 5,
   "id": "4e715043",
   "metadata": {},
   "outputs": [],
   "source": [
    "bis_14.to_csv('bis_14.csv', index=False)\n",
    "eeg_14_CH1.to_csv('EEG_14_CH1.csv', index=False)\n",
    "eeg_14_CH2.to_csv('EEG_14_CH2.csv', index=False)"
   ]
  },
  {
   "cell_type": "code",
   "execution_count": 4,
   "id": "a346ff68",
   "metadata": {},
   "outputs": [],
   "source": [
    "Bis_8 = Case.loc[Case['Filename'] == 'patient_8_BIS/BIS.csv', 'Column1']\n",
    "eeg_8a = Case.loc[Case['Filename'] == 'patient_8_BIS/EEG1_WAV.csv', 'Column1']\n",
    "eeg_8b = Case.loc[Case['Filename'] == 'patient_8_BIS/EEG2_WAV.csv', 'Column1']\n",
    "def read_data (data):\n",
    "    for i in data:\n",
    "        t=pd.read_csv(i)\n",
    "        return t\n",
    "bis_8 = read_data(Bis_8)\n",
    "eeg_8_CH1 = read_data(eeg_8a)\n",
    "eeg_8_CH2 = read_data(eeg_8b)"
   ]
  },
  {
   "cell_type": "code",
   "execution_count": 5,
   "id": "12e54552",
   "metadata": {},
   "outputs": [],
   "source": [
    "bis_8.to_csv('bis_8.csv', index=False)\n",
    "eeg_8_CH1.to_csv('EEG_8_CH1.csv', index=False)\n",
    "eeg_8_CH2.to_csv('EEG_8_CH2.csv', index=False)"
   ]
  },
  {
   "cell_type": "code",
   "execution_count": 6,
   "id": "e6b17be5",
   "metadata": {},
   "outputs": [],
   "source": [
    "Bis_9 = Case.loc[Case['Filename'] == 'patient_9_BIS/BIS.csv', 'Column1']\n",
    "eeg_9a = Case.loc[Case['Filename'] == 'patient_9_BIS/EEG1_WAV.csv', 'Column1']\n",
    "eeg_9b = Case.loc[Case['Filename'] == 'patient_9_BIS/EEG2_WAV.csv', 'Column1']\n",
    "def read_data (data):\n",
    "    for i in data:\n",
    "        t=pd.read_csv(i)\n",
    "        return t\n",
    "bis_9= read_data(Bis_9)\n",
    "eeg_9_CH1 = read_data(eeg_9a)\n",
    "eeg_9_CH2 = read_data(eeg_9b)"
   ]
  },
  {
   "cell_type": "code",
   "execution_count": 8,
   "id": "1c59c171",
   "metadata": {},
   "outputs": [],
   "source": [
    "bis_9.to_csv('bis_9.csv', index=False)\n",
    "eeg_9_CH1.to_csv('EEG_9_CH1.csv', index=False)\n",
    "eeg_9_CH2.to_csv('EEG_9_CH2.csv', index=False)"
   ]
  },
  {
   "cell_type": "code",
   "execution_count": 9,
   "id": "7804870f",
   "metadata": {},
   "outputs": [],
   "source": [
    "Bis_35 = Case.loc[Case['Filename'] == 'patient_35_BIS/BIS.csv', 'Column1']\n",
    "eeg_35a = Case.loc[Case['Filename'] == 'patient_35_BIS/EEG1_WAV.csv', 'Column1']\n",
    "eeg_35b = Case.loc[Case['Filename'] == 'patient_35_BIS/EEG2_WAV.csv', 'Column1']\n",
    "def read_data (data):\n",
    "    for i in data:\n",
    "        t=pd.read_csv(i)\n",
    "        return t\n",
    "bis_35= read_data(Bis_35)\n",
    "eeg_35_CH1 = read_data(eeg_35a)\n",
    "eeg_35_CH2 = read_data(eeg_35b)"
   ]
  },
  {
   "cell_type": "code",
   "execution_count": 10,
   "id": "3c0adae7",
   "metadata": {},
   "outputs": [],
   "source": [
    "bis_35.to_csv('bis_35.csv', index=False)\n",
    "eeg_35_CH1.to_csv('EEG_35_CH1.csv', index=False)\n",
    "eeg_35_CH2.to_csv('EEG_35_CH2.csv', index=False)"
   ]
  },
  {
   "cell_type": "code",
   "execution_count": 11,
   "id": "7e188353",
   "metadata": {},
   "outputs": [],
   "source": [
    "Bis_36 = Case.loc[Case['Filename'] == 'patient_36_BIS/BIS.csv', 'Column1']\n",
    "eeg_36a = Case.loc[Case['Filename'] == 'patient_36_BIS/EEG1_WAV.csv', 'Column1']\n",
    "eeg_36b = Case.loc[Case['Filename'] == 'patient_36_BIS/EEG2_WAV.csv', 'Column1']\n",
    "def read_data (data):\n",
    "    for i in data:\n",
    "        t=pd.read_csv(i)\n",
    "        return t\n",
    "bis_36= read_data(Bis_36)\n",
    "eeg_36_CH1 = read_data(eeg_36a)\n",
    "eeg_36_CH2 = read_data(eeg_36b)"
   ]
  },
  {
   "cell_type": "code",
   "execution_count": 12,
   "id": "d3707656",
   "metadata": {},
   "outputs": [],
   "source": [
    "bis_36.to_csv('bis_36.csv', index=False)\n",
    "eeg_36_CH1.to_csv('EEG_36_CH1.csv', index=False)\n",
    "eeg_36_CH2.to_csv('EEG_36_CH2.csv', index=False)"
   ]
  },
  {
   "cell_type": "code",
   "execution_count": 5,
   "id": "5d774d55",
   "metadata": {},
   "outputs": [],
   "source": [
    "Bis_212 = Case.loc[Case['Filename'] == 'patient_212_BIS/BIS.csv', 'Column1']\n",
    "eeg_212a = Case.loc[Case['Filename'] == 'patient_212_BIS/EEG1_WAV.csv', 'Column1']\n",
    "eeg_212b = Case.loc[Case['Filename'] == 'patient_212_BIS/EEG2_WAV.csv', 'Column1']\n",
    "def read_data (data):\n",
    "    for i in data:\n",
    "        t=pd.read_csv(i)\n",
    "        return t\n",
    "bis_212= read_data(Bis_212)\n",
    "eeg_212_CH1 = read_data(eeg_212a)\n",
    "eeg_212_CH2 = read_data(eeg_212b)"
   ]
  },
  {
   "cell_type": "code",
   "execution_count": 6,
   "id": "3be286a3",
   "metadata": {},
   "outputs": [],
   "source": [
    "bis_212.to_csv('bis_212.csv', index=False)\n",
    "eeg_212_CH1.to_csv('EEG_212_CH1.csv', index=False)\n",
    "eeg_212_CH2.to_csv('EEG_212_CH2.csv', index=False)"
   ]
  },
  {
   "cell_type": "code",
   "execution_count": 7,
   "id": "5cf65593",
   "metadata": {},
   "outputs": [],
   "source": [
    "Bis_203 = Case.loc[Case['Filename'] == 'patient_203_BIS/BIS.csv', 'Column1']\n",
    "eeg_203a = Case.loc[Case['Filename'] == 'patient_203_BIS/EEG1_WAV.csv', 'Column1']\n",
    "eeg_203b = Case.loc[Case['Filename'] == 'patient_203_BIS/EEG2_WAV.csv', 'Column1']\n",
    "def read_data (data):\n",
    "    for i in data:\n",
    "        t=pd.read_csv(i)\n",
    "        return t\n",
    "bis_203= read_data(Bis_203)\n",
    "eeg_203_CH1 = read_data(eeg_203a)\n",
    "eeg_203_CH2 = read_data(eeg_203b)"
   ]
  },
  {
   "cell_type": "code",
   "execution_count": 8,
   "id": "80879119",
   "metadata": {},
   "outputs": [],
   "source": [
    "bis_203.to_csv('bis_203.csv', index=False)\n",
    "eeg_203_CH1.to_csv('EEG_203_CH1.csv', index=False)\n",
    "eeg_203_CH2.to_csv('EEG_203_CH2.csv', index=False)"
   ]
  },
  {
   "cell_type": "code",
   "execution_count": 9,
   "id": "0d7534c8",
   "metadata": {},
   "outputs": [],
   "source": [
    "Bis_208 = Case.loc[Case['Filename'] == 'patient_208_BIS/BIS.csv', 'Column1']\n",
    "eeg_208a = Case.loc[Case['Filename'] == 'patient_208_BIS/EEG1_WAV.csv', 'Column1']\n",
    "eeg_208b = Case.loc[Case['Filename'] == 'patient_208_BIS/EEG2_WAV.csv', 'Column1']\n",
    "def read_data (data):\n",
    "    for i in data:\n",
    "        t=pd.read_csv(i)\n",
    "        return t\n",
    "bis_208= read_data(Bis_208)\n",
    "eeg_208_CH1 = read_data(eeg_208a)\n",
    "eeg_208_CH2 = read_data(eeg_208b)"
   ]
  },
  {
   "cell_type": "code",
   "execution_count": 10,
   "id": "6b51ab2f",
   "metadata": {},
   "outputs": [],
   "source": [
    "bis_208.to_csv('bis_208.csv', index=False)\n",
    "eeg_208_CH1.to_csv('EEG_208_CH1.csv', index=False)\n",
    "eeg_208_CH2.to_csv('EEG_208_CH2.csv', index=False)"
   ]
  },
  {
   "cell_type": "code",
   "execution_count": 5,
   "id": "298f1609",
   "metadata": {},
   "outputs": [],
   "source": [
    "Bis = Case.loc[Case['Filename'] == 'patient_40_BIS/BIS.csv', 'Column1']\n",
    "eega = Case.loc[Case['Filename'] == 'patient_40_BIS/EEG1_WAV.csv', 'Column1']\n",
    "eegb = Case.loc[Case['Filename'] == 'patient_40_BIS/EEG2_WAV.csv', 'Column1']\n",
    "def read_data (data):\n",
    "    for i in data:\n",
    "        t=pd.read_csv(i)\n",
    "        return t\n",
    "bis= read_data(Bis)\n",
    "eeg_CH1 = read_data(eega)\n",
    "eeg_CH2 = read_data(eegb)\n",
    "\n",
    "bis.to_csv('bis_40.csv', index=False)\n",
    "eeg_CH1.to_csv('EEG_40_CH1.csv', index=False)\n",
    "eeg_CH2.to_csv('EEG_40_CH2.csv', index=False)"
   ]
  },
  {
   "cell_type": "code",
   "execution_count": 6,
   "id": "14710b77",
   "metadata": {},
   "outputs": [],
   "source": [
    "Bis = Case.loc[Case['Filename'] == 'patient_47_BIS/BIS.csv', 'Column1']\n",
    "eega = Case.loc[Case['Filename'] == 'patient_47_BIS/EEG1_WAV.csv', 'Column1']\n",
    "eegb = Case.loc[Case['Filename'] == 'patient_47_BIS/EEG2_WAV.csv', 'Column1']\n",
    "def read_data (data):\n",
    "    for i in data:\n",
    "        t=pd.read_csv(i)\n",
    "        return t\n",
    "bis= read_data(Bis)\n",
    "eeg_CH1 = read_data(eega)\n",
    "eeg_CH2 = read_data(eegb)\n",
    "\n",
    "bis.to_csv('bis_47.csv', index=False)\n",
    "eeg_CH1.to_csv('EEG_47_CH1.csv', index=False)\n",
    "eeg_CH2.to_csv('EEG_47_CH2.csv', index=False)"
   ]
  },
  {
   "cell_type": "code",
   "execution_count": 7,
   "id": "feb52ef5",
   "metadata": {},
   "outputs": [],
   "source": [
    "Bis = Case.loc[Case['Filename'] == 'patient_61_BIS/BIS.csv', 'Column1']\n",
    "eega = Case.loc[Case['Filename'] == 'patient_61_BIS/EEG1_WAV.csv', 'Column1']\n",
    "eegb = Case.loc[Case['Filename'] == 'patient_61_BIS/EEG2_WAV.csv', 'Column1']\n",
    "def read_data (data):\n",
    "    for i in data:\n",
    "        t=pd.read_csv(i)\n",
    "        return t\n",
    "bis= read_data(Bis)\n",
    "eeg_CH1 = read_data(eega)\n",
    "eeg_CH2 = read_data(eegb)\n",
    "\n",
    "bis.to_csv('bis_61.csv', index=False)\n",
    "eeg_CH1.to_csv('EEG_61_CH1.csv', index=False)\n",
    "eeg_CH2.to_csv('EEG_61_CH2.csv', index=False)"
   ]
  },
  {
   "cell_type": "code",
   "execution_count": 8,
   "id": "31e95291",
   "metadata": {},
   "outputs": [],
   "source": [
    "Bis = Case.loc[Case['Filename'] == 'patient_30_BIS/BIS.csv', 'Column1']\n",
    "eega = Case.loc[Case['Filename'] == 'patient_30_BIS/EEG1_WAV.csv', 'Column1']\n",
    "eegb = Case.loc[Case['Filename'] == 'patient_30_BIS/EEG2_WAV.csv', 'Column1']\n",
    "def read_data (data):\n",
    "    for i in data:\n",
    "        t=pd.read_csv(i)\n",
    "        return t\n",
    "bis= read_data(Bis)\n",
    "eeg_CH1 = read_data(eega)\n",
    "eeg_CH2 = read_data(eegb)\n",
    "\n",
    "bis.to_csv('bis_30.csv', index=False)\n",
    "eeg_CH1.to_csv('EEG_30_CH1.csv', index=False)\n",
    "eeg_CH2.to_csv('EEG_30_CH2.csv', index=False)"
   ]
  },
  {
   "cell_type": "code",
   "execution_count": 9,
   "id": "0ebf7844",
   "metadata": {},
   "outputs": [],
   "source": [
    "Bis = Case.loc[Case['Filename'] == 'patient_31_BIS/BIS.csv', 'Column1']\n",
    "eega = Case.loc[Case['Filename'] == 'patient_31_BIS/EEG1_WAV.csv', 'Column1']\n",
    "eegb = Case.loc[Case['Filename'] == 'patient_31_BIS/EEG2_WAV.csv', 'Column1']\n",
    "def read_data (data):\n",
    "    for i in data:\n",
    "        t=pd.read_csv(i)\n",
    "        return t\n",
    "bis= read_data(Bis)\n",
    "eeg_CH1 = read_data(eega)\n",
    "eeg_CH2 = read_data(eegb)\n",
    "\n",
    "bis.to_csv('bis_31.csv', index=False)\n",
    "eeg_CH1.to_csv('EEG_31_CH1.csv', index=False)\n",
    "eeg_CH2.to_csv('EEG_31_CH2.csv', index=False)"
   ]
  },
  {
   "cell_type": "code",
   "execution_count": 5,
   "id": "ffa8defa",
   "metadata": {},
   "outputs": [],
   "source": [
    "Bis = Case.loc[Case['Filename'] == 'patient_220_BIS/BIS.csv', 'Column1']\n",
    "eega = Case.loc[Case['Filename'] == 'patient_220_BIS/EEG1_WAV.csv', 'Column1']\n",
    "eegb = Case.loc[Case['Filename'] == 'patient_220_BIS/EEG2_WAV.csv', 'Column1']\n",
    "def read_data (data):\n",
    "    for i in data:\n",
    "        t=pd.read_csv(i)\n",
    "        return t\n",
    "bis= read_data(Bis)\n",
    "eeg_CH1 = read_data(eega)\n",
    "eeg_CH2 = read_data(eegb)\n",
    "\n",
    "bis.to_csv('bis_220.csv', index=False)\n",
    "eeg_CH1.to_csv('EEG_220_CH1.csv', index=False)\n",
    "eeg_CH2.to_csv('EEG_220_CH2.csv', index=False)"
   ]
  },
  {
   "cell_type": "code",
   "execution_count": 4,
   "id": "a97362d8",
   "metadata": {},
   "outputs": [],
   "source": [
    "Bis = Case.loc[Case['Filename'] == 'patient_213_BIS/BIS.csv', 'Column1']\n",
    "eega = Case.loc[Case['Filename'] == 'patient_213_BIS/EEG1_WAV.csv', 'Column1']\n",
    "eegb = Case.loc[Case['Filename'] == 'patient_213_BIS/EEG2_WAV.csv', 'Column1']\n",
    "def read_data (data):\n",
    "    for i in data:\n",
    "        t=pd.read_csv(i)\n",
    "        return t\n",
    "bis= read_data(Bis)\n",
    "eeg_CH1 = read_data(eega)\n",
    "eeg_CH2 = read_data(eegb)\n",
    "\n",
    "bis.to_csv('bis_213.csv', index=False)\n",
    "eeg_CH1.to_csv('EEG_213_CH1.csv', index=False)\n",
    "eeg_CH2.to_csv('EEG_213_CH2.csv', index=False)"
   ]
  },
  {
   "cell_type": "code",
   "execution_count": 5,
   "id": "a425145d",
   "metadata": {},
   "outputs": [],
   "source": [
    "Bis = Case.loc[Case['Filename'] == 'patient_227_BIS/BIS.csv', 'Column1']\n",
    "eega = Case.loc[Case['Filename'] == 'patient_227_BIS/EEG1_WAV.csv', 'Column1']\n",
    "eegb = Case.loc[Case['Filename'] == 'patient_227_BIS/EEG2_WAV.csv', 'Column1']\n",
    "def read_data (data):\n",
    "    for i in data:\n",
    "        t=pd.read_csv(i)\n",
    "        return t\n",
    "bis= read_data(Bis)\n",
    "eeg_CH1 = read_data(eega)\n",
    "eeg_CH2 = read_data(eegb)\n",
    "\n",
    "bis.to_csv('bis_227.csv', index=False)\n",
    "eeg_CH1.to_csv('EEG_227_CH1.csv', index=False)\n",
    "eeg_CH2.to_csv('EEG_227_CH2.csv', index=False)"
   ]
  },
  {
   "cell_type": "code",
   "execution_count": 6,
   "id": "6c817837",
   "metadata": {},
   "outputs": [],
   "source": [
    "Bis = Case.loc[Case['Filename'] == 'patient_231_BIS/BIS.csv', 'Column1']\n",
    "eega = Case.loc[Case['Filename'] == 'patient_231_BIS/EEG1_WAV.csv', 'Column1']\n",
    "eegb = Case.loc[Case['Filename'] == 'patient_231_BIS/EEG2_WAV.csv', 'Column1']\n",
    "def read_data (data):\n",
    "    for i in data:\n",
    "        t=pd.read_csv(i)\n",
    "        return t\n",
    "bis= read_data(Bis)\n",
    "eeg_CH1 = read_data(eega)\n",
    "eeg_CH2 = read_data(eegb)\n",
    "\n",
    "bis.to_csv('bis_231.csv', index=False)\n",
    "eeg_CH1.to_csv('EEG_231_CH1.csv', index=False)\n",
    "eeg_CH2.to_csv('EEG_231_CH2.csv', index=False)"
   ]
  },
  {
   "cell_type": "code",
   "execution_count": 7,
   "id": "610d5277",
   "metadata": {},
   "outputs": [],
   "source": [
    "Bis = Case.loc[Case['Filename'] == 'patient_240_BIS/BIS.csv', 'Column1']\n",
    "eega = Case.loc[Case['Filename'] == 'patient_240_BIS/EEG1_WAV.csv', 'Column1']\n",
    "eegb = Case.loc[Case['Filename'] == 'patient_240_BIS/EEG2_WAV.csv', 'Column1']\n",
    "def read_data (data):\n",
    "    for i in data:\n",
    "        t=pd.read_csv(i)\n",
    "        return t\n",
    "bis= read_data(Bis)\n",
    "eeg_CH1 = read_data(eega)\n",
    "eeg_CH2 = read_data(eegb)\n",
    "\n",
    "bis.to_csv('bis_240.csv', index=False)\n",
    "eeg_CH1.to_csv('EEG_240_CH1.csv', index=False)\n",
    "eeg_CH2.to_csv('EEG_240_CH2.csv', index=False)"
   ]
  },
  {
   "cell_type": "code",
   "execution_count": 8,
   "id": "a001cf06",
   "metadata": {},
   "outputs": [],
   "source": [
    "Bis = Case.loc[Case['Filename'] == 'patient_253_BIS/BIS.csv', 'Column1']\n",
    "eega = Case.loc[Case['Filename'] == 'patient_253_BIS/EEG1_WAV.csv', 'Column1']\n",
    "eegb = Case.loc[Case['Filename'] == 'patient_253_BIS/EEG2_WAV.csv', 'Column1']\n",
    "def read_data (data):\n",
    "    for i in data:\n",
    "        t=pd.read_csv(i)\n",
    "        return t\n",
    "bis= read_data(Bis)\n",
    "eeg_CH1 = read_data(eega)\n",
    "eeg_CH2 = read_data(eegb)\n",
    "\n",
    "bis.to_csv('bis_253.csv', index=False)\n",
    "eeg_CH1.to_csv('EEG_253_CH1.csv', index=False)\n",
    "eeg_CH2.to_csv('EEG_253_CH2.csv', index=False)"
   ]
  },
  {
   "cell_type": "code",
   "execution_count": 9,
   "id": "1a3893a2",
   "metadata": {},
   "outputs": [],
   "source": [
    "Bis = Case.loc[Case['Filename'] == 'patient_267_BIS/BIS.csv', 'Column1']\n",
    "eega = Case.loc[Case['Filename'] == 'patient_267_BIS/EEG1_WAV.csv', 'Column1']\n",
    "eegb = Case.loc[Case['Filename'] == 'patient_267_BIS/EEG2_WAV.csv', 'Column1']\n",
    "def read_data (data):\n",
    "    for i in data:\n",
    "        t=pd.read_csv(i)\n",
    "        return t\n",
    "bis= read_data(Bis)\n",
    "eeg_CH1 = read_data(eega)\n",
    "eeg_CH2 = read_data(eegb)\n",
    "\n",
    "bis.to_csv('bis_267.csv', index=False)\n",
    "eeg_CH1.to_csv('EEG_267_CH1.csv', index=False)\n",
    "eeg_CH2.to_csv('EEG_267_CH2.csv', index=False)"
   ]
  },
  {
   "cell_type": "code",
   "execution_count": 10,
   "id": "99fca832",
   "metadata": {},
   "outputs": [],
   "source": [
    "Bis = Case.loc[Case['Filename'] == 'patient_268_BIS/BIS.csv', 'Column1']\n",
    "eega = Case.loc[Case['Filename'] == 'patient_268_BIS/EEG1_WAV.csv', 'Column1']\n",
    "eegb = Case.loc[Case['Filename'] == 'patient_268_BIS/EEG2_WAV.csv', 'Column1']\n",
    "def read_data (data):\n",
    "    for i in data:\n",
    "        t=pd.read_csv(i)\n",
    "        return t\n",
    "bis= read_data(Bis)\n",
    "eeg_CH1 = read_data(eega)\n",
    "eeg_CH2 = read_data(eegb)\n",
    "\n",
    "bis.to_csv('bis_268.csv', index=False)\n",
    "eeg_CH1.to_csv('EEG_268_CH1.csv', index=False)\n",
    "eeg_CH2.to_csv('EEG_268_CH2.csv', index=False)"
   ]
  },
  {
   "cell_type": "code",
   "execution_count": 11,
   "id": "2126f2ea",
   "metadata": {},
   "outputs": [],
   "source": [
    "Bis = Case.loc[Case['Filename'] == 'patient_270_BIS/BIS.csv', 'Column1']\n",
    "eega = Case.loc[Case['Filename'] == 'patient_270_BIS/EEG1_WAV.csv', 'Column1']\n",
    "eegb = Case.loc[Case['Filename'] == 'patient_270_BIS/EEG2_WAV.csv', 'Column1']\n",
    "def read_data (data):\n",
    "    for i in data:\n",
    "        t=pd.read_csv(i)\n",
    "        return t\n",
    "bis= read_data(Bis)\n",
    "eeg_CH1 = read_data(eega)\n",
    "eeg_CH2 = read_data(eegb)\n",
    "\n",
    "bis.to_csv('bis_270.csv', index=False)\n",
    "eeg_CH1.to_csv('EEG_270_CH1.csv', index=False)\n",
    "eeg_CH2.to_csv('EEG_270_CH2.csv', index=False)"
   ]
  },
  {
   "cell_type": "code",
   "execution_count": 12,
   "id": "a74c7293",
   "metadata": {},
   "outputs": [],
   "source": [
    "Bis = Case.loc[Case['Filename'] == 'patient_274_BIS/BIS.csv', 'Column1']\n",
    "eega = Case.loc[Case['Filename'] == 'patient_274_BIS/EEG1_WAV.csv', 'Column1']\n",
    "eegb = Case.loc[Case['Filename'] == 'patient_274_BIS/EEG2_WAV.csv', 'Column1']\n",
    "def read_data (data):\n",
    "    for i in data:\n",
    "        t=pd.read_csv(i)\n",
    "        return t\n",
    "bis= read_data(Bis)\n",
    "eeg_CH1 = read_data(eega)\n",
    "eeg_CH2 = read_data(eegb)\n",
    "\n",
    "bis.to_csv('bis_274.csv', index=False)\n",
    "eeg_CH1.to_csv('EEG_274_CH1.csv', index=False)\n",
    "eeg_CH2.to_csv('EEG_274_CH2.csv', index=False)"
   ]
  },
  {
   "cell_type": "code",
   "execution_count": 13,
   "id": "06a0bec0",
   "metadata": {},
   "outputs": [],
   "source": [
    "Bis = Case.loc[Case['Filename'] == 'patient_278_BIS/BIS.csv', 'Column1']\n",
    "eega = Case.loc[Case['Filename'] == 'patient_278_BIS/EEG1_WAV.csv', 'Column1']\n",
    "eegb = Case.loc[Case['Filename'] == 'patient_278_BIS/EEG2_WAV.csv', 'Column1']\n",
    "def read_data (data):\n",
    "    for i in data:\n",
    "        t=pd.read_csv(i)\n",
    "        return t\n",
    "bis= read_data(Bis)\n",
    "eeg_CH1 = read_data(eega)\n",
    "eeg_CH2 = read_data(eegb)\n",
    "\n",
    "bis.to_csv('bis_278.csv', index=False)\n",
    "eeg_CH1.to_csv('EEG_278_CH1.csv', index=False)\n",
    "eeg_CH2.to_csv('EEG_278_CH2.csv', index=False)"
   ]
  },
  {
   "cell_type": "code",
   "execution_count": 14,
   "id": "8467b68e",
   "metadata": {},
   "outputs": [],
   "source": [
    "Bis = Case.loc[Case['Filename'] == 'patient_279_BIS/BIS.csv', 'Column1']\n",
    "eega = Case.loc[Case['Filename'] == 'patient_279_BIS/EEG1_WAV.csv', 'Column1']\n",
    "eegb = Case.loc[Case['Filename'] == 'patient_279_BIS/EEG2_WAV.csv', 'Column1']\n",
    "def read_data (data):\n",
    "    for i in data:\n",
    "        t=pd.read_csv(i)\n",
    "        return t\n",
    "bis= read_data(Bis)\n",
    "eeg_CH1 = read_data(eega)\n",
    "eeg_CH2 = read_data(eegb)\n",
    "\n",
    "bis.to_csv('bis_279.csv', index=False)\n",
    "eeg_CH1.to_csv('EEG_279_CH1.csv', index=False)\n",
    "eeg_CH2.to_csv('EEG_279_CH2.csv', index=False)"
   ]
  },
  {
   "cell_type": "code",
   "execution_count": 15,
   "id": "41c3061a",
   "metadata": {},
   "outputs": [],
   "source": [
    "Bis = Case.loc[Case['Filename'] == 'patient_291_BIS/BIS.csv', 'Column1']\n",
    "eega = Case.loc[Case['Filename'] == 'patient_291_BIS/EEG1_WAV.csv', 'Column1']\n",
    "eegb = Case.loc[Case['Filename'] == 'patient_291_BIS/EEG2_WAV.csv', 'Column1']\n",
    "def read_data (data):\n",
    "    for i in data:\n",
    "        t=pd.read_csv(i)\n",
    "        return t\n",
    "bis= read_data(Bis)\n",
    "eeg_CH1 = read_data(eega)\n",
    "eeg_CH2 = read_data(eegb)\n",
    "\n",
    "bis.to_csv('bis_291.csv', index=False)\n",
    "eeg_CH1.to_csv('EEG_291_CH1.csv', index=False)\n",
    "eeg_CH2.to_csv('EEG_291_CH2.csv', index=False)"
   ]
  },
  {
   "cell_type": "code",
   "execution_count": 16,
   "id": "bef5e8d1",
   "metadata": {},
   "outputs": [],
   "source": [
    "Bis = Case.loc[Case['Filename'] == 'patient_298_BIS/BIS.csv', 'Column1']\n",
    "eega = Case.loc[Case['Filename'] == 'patient_298_BIS/EEG1_WAV.csv', 'Column1']\n",
    "eegb = Case.loc[Case['Filename'] == 'patient_298_BIS/EEG2_WAV.csv', 'Column1']\n",
    "def read_data (data):\n",
    "    for i in data:\n",
    "        t=pd.read_csv(i)\n",
    "        return t\n",
    "bis= read_data(Bis)\n",
    "eeg_CH1 = read_data(eega)\n",
    "eeg_CH2 = read_data(eegb)\n",
    "\n",
    "bis.to_csv('bis_298.csv', index=False)\n",
    "eeg_CH1.to_csv('EEG_298_CH1.csv', index=False)\n",
    "eeg_CH2.to_csv('EEG_298_CH2.csv', index=False)"
   ]
  },
  {
   "cell_type": "code",
   "execution_count": 17,
   "id": "334bcef7",
   "metadata": {},
   "outputs": [],
   "source": [
    "Bis = Case.loc[Case['Filename'] == 'patient_300_BIS/BIS.csv', 'Column1']\n",
    "eega = Case.loc[Case['Filename'] == 'patient_300_BIS/EEG1_WAV.csv', 'Column1']\n",
    "eegb = Case.loc[Case['Filename'] == 'patient_300_BIS/EEG2_WAV.csv', 'Column1']\n",
    "def read_data (data):\n",
    "    for i in data:\n",
    "        t=pd.read_csv(i)\n",
    "        return t\n",
    "bis= read_data(Bis)\n",
    "eeg_CH1 = read_data(eega)\n",
    "eeg_CH2 = read_data(eegb)\n",
    "\n",
    "bis.to_csv('bis_300.csv', index=False)\n",
    "eeg_CH1.to_csv('EEG_300_CH1.csv', index=False)\n",
    "eeg_CH2.to_csv('EEG_300_CH2.csv', index=False)"
   ]
  },
  {
   "cell_type": "code",
   "execution_count": 18,
   "id": "37478de3",
   "metadata": {},
   "outputs": [],
   "source": [
    "Bis = Case.loc[Case['Filename'] == 'patient_301_BIS/BIS.csv', 'Column1']\n",
    "eega = Case.loc[Case['Filename'] == 'patient_301_BIS/EEG1_WAV.csv', 'Column1']\n",
    "eegb = Case.loc[Case['Filename'] == 'patient_301_BIS/EEG2_WAV.csv', 'Column1']\n",
    "def read_data (data):\n",
    "    for i in data:\n",
    "        t=pd.read_csv(i)\n",
    "        return t\n",
    "bis= read_data(Bis)\n",
    "eeg_CH1 = read_data(eega)\n",
    "eeg_CH2 = read_data(eegb)\n",
    "\n",
    "bis.to_csv('bis_301.csv', index=False)\n",
    "eeg_CH1.to_csv('EEG_301_CH1.csv', index=False)\n",
    "eeg_CH2.to_csv('EEG_301_CH2.csv', index=False)"
   ]
  },
  {
   "cell_type": "code",
   "execution_count": 8,
   "id": "506095f9",
   "metadata": {},
   "outputs": [],
   "source": [
    "Bis = Case.loc[Case['Filename'] == 'patient_302_BIS/BIS.csv', 'Column1']\n",
    "eega = Case.loc[Case['Filename'] == 'patient_302_BIS/EEG1_WAV.csv', 'Column1']\n",
    "eegb = Case.loc[Case['Filename'] == 'patient_302_BIS/EEG2_WAV.csv', 'Column1']\n",
    "def read_data (data):\n",
    "    for i in data:\n",
    "        t=pd.read_csv(i)\n",
    "        return t\n",
    "bis= read_data(Bis)\n",
    "eeg_CH1 = read_data(eega)\n",
    "eeg_CH2 = read_data(eegb)\n",
    "\n",
    "bis.to_csv('bis_302.csv', index=False)\n",
    "eeg_CH1.to_csv('EEG_302_CH1.csv', index=False)\n",
    "eeg_CH2.to_csv('EEG_302_CH2.csv', index=False)"
   ]
  },
  {
   "cell_type": "code",
   "execution_count": 20,
   "id": "9532211a",
   "metadata": {},
   "outputs": [],
   "source": [
    "Bis = Case.loc[Case['Filename'] == 'patient_304_BIS/BIS.csv', 'Column1']\n",
    "eega = Case.loc[Case['Filename'] == 'patient_304_BIS/EEG1_WAV.csv', 'Column1']\n",
    "eegb = Case.loc[Case['Filename'] == 'patient_304_BIS/EEG2_WAV.csv', 'Column1']\n",
    "def read_data (data):\n",
    "    for i in data:\n",
    "        t=pd.read_csv(i)\n",
    "        return t\n",
    "bis= read_data(Bis)\n",
    "eeg_CH1 = read_data(eega)\n",
    "eeg_CH2 = read_data(eegb)\n",
    "\n",
    "bis.to_csv('bis_304.csv', index=False)\n",
    "eeg_CH1.to_csv('EEG_304_CH1.csv', index=False)\n",
    "eeg_CH2.to_csv('EEG_304_CH2.csv', index=False)"
   ]
  },
  {
   "cell_type": "code",
   "execution_count": 21,
   "id": "bac18bbd",
   "metadata": {},
   "outputs": [],
   "source": [
    "Bis = Case.loc[Case['Filename'] == 'patient_316_BIS/BIS.csv', 'Column1']\n",
    "eega = Case.loc[Case['Filename'] == 'patient_316_BIS/EEG1_WAV.csv', 'Column1']\n",
    "eegb = Case.loc[Case['Filename'] == 'patient_316_BIS/EEG2_WAV.csv', 'Column1']\n",
    "def read_data (data):\n",
    "    for i in data:\n",
    "        t=pd.read_csv(i)\n",
    "        return t\n",
    "bis= read_data(Bis)\n",
    "eeg_CH1 = read_data(eega)\n",
    "eeg_CH2 = read_data(eegb)\n",
    "\n",
    "bis.to_csv('bis_316.csv', index=False)\n",
    "eeg_CH1.to_csv('EEG_316_CH1.csv', index=False)\n",
    "eeg_CH2.to_csv('EEG_316_CH2.csv', index=False)"
   ]
  },
  {
   "cell_type": "code",
   "execution_count": 4,
   "id": "ee9d1d32",
   "metadata": {},
   "outputs": [],
   "source": [
    "Bis = Case.loc[Case['Filename'] == 'patient_319_BIS/BIS.csv', 'Column1']\n",
    "eega = Case.loc[Case['Filename'] == 'patient_319_BIS/EEG1_WAV.csv', 'Column1']\n",
    "eegb = Case.loc[Case['Filename'] == 'patient_319_BIS/EEG2_WAV.csv', 'Column1']\n",
    "def read_data (data):\n",
    "    for i in data:\n",
    "        t=pd.read_csv(i)\n",
    "        return t\n",
    "bis= read_data(Bis)\n",
    "eeg_CH1 = read_data(eega)\n",
    "eeg_CH2 = read_data(eegb)\n",
    "\n",
    "bis.to_csv('bis_319.csv', index=False)\n",
    "eeg_CH1.to_csv('EEG_319_CH1.csv', index=False)\n",
    "eeg_CH2.to_csv('EEG_319_CH2.csv', index=False)"
   ]
  },
  {
   "cell_type": "code",
   "execution_count": 5,
   "id": "446a08af",
   "metadata": {},
   "outputs": [],
   "source": [
    "Bis = Case.loc[Case['Filename'] == 'patient_320_BIS/BIS.csv', 'Column1']\n",
    "eega = Case.loc[Case['Filename'] == 'patient_320_BIS/EEG1_WAV.csv', 'Column1']\n",
    "eegb = Case.loc[Case['Filename'] == 'patient_320_BIS/EEG2_WAV.csv', 'Column1']\n",
    "def read_data (data):\n",
    "    for i in data:\n",
    "        t=pd.read_csv(i)\n",
    "        return t\n",
    "bis= read_data(Bis)\n",
    "eeg_CH1 = read_data(eega)\n",
    "eeg_CH2 = read_data(eegb)\n",
    "\n",
    "bis.to_csv('bis_320.csv', index=False)\n",
    "eeg_CH1.to_csv('EEG_320_CH1.csv', index=False)\n",
    "eeg_CH2.to_csv('EEG_320_CH2.csv', index=False)"
   ]
  },
  {
   "cell_type": "code",
   "execution_count": 6,
   "id": "70f88dd4",
   "metadata": {},
   "outputs": [],
   "source": [
    "Bis = Case.loc[Case['Filename'] == 'patient_326_BIS/BIS.csv', 'Column1']\n",
    "eega = Case.loc[Case['Filename'] == 'patient_326_BIS/EEG1_WAV.csv', 'Column1']\n",
    "eegb = Case.loc[Case['Filename'] == 'patient_326_BIS/EEG2_WAV.csv', 'Column1']\n",
    "def read_data (data):\n",
    "    for i in data:\n",
    "        t=pd.read_csv(i)\n",
    "        return t\n",
    "bis= read_data(Bis)\n",
    "eeg_CH1 = read_data(eega)\n",
    "eeg_CH2 = read_data(eegb)\n",
    "\n",
    "bis.to_csv('bis_326.csv', index=False)\n",
    "eeg_CH1.to_csv('EEG_326_CH1.csv', index=False)\n",
    "eeg_CH2.to_csv('EEG_326_CH2.csv', index=False)"
   ]
  },
  {
   "cell_type": "code",
   "execution_count": 7,
   "id": "f93f77e2",
   "metadata": {},
   "outputs": [],
   "source": [
    "Bis = Case.loc[Case['Filename'] == 'patient_328_BIS/BIS.csv', 'Column1']\n",
    "eega = Case.loc[Case['Filename'] == 'patient_328_BIS/EEG1_WAV.csv', 'Column1']\n",
    "eegb = Case.loc[Case['Filename'] == 'patient_328_BIS/EEG2_WAV.csv', 'Column1']\n",
    "def read_data (data):\n",
    "    for i in data:\n",
    "        t=pd.read_csv(i)\n",
    "        return t\n",
    "bis= read_data(Bis)\n",
    "eeg_CH1 = read_data(eega)\n",
    "eeg_CH2 = read_data(eegb)\n",
    "\n",
    "bis.to_csv('bis_328.csv', index=False)\n",
    "eeg_CH1.to_csv('EEG_328_CH1.csv', index=False)\n",
    "eeg_CH2.to_csv('EEG_328_CH2.csv', index=False)"
   ]
  },
  {
   "cell_type": "code",
   "execution_count": 8,
   "id": "13039062",
   "metadata": {},
   "outputs": [],
   "source": [
    "Bis = Case.loc[Case['Filename'] == 'patient_329_BIS/BIS.csv', 'Column1']\n",
    "eega = Case.loc[Case['Filename'] == 'patient_329_BIS/EEG1_WAV.csv', 'Column1']\n",
    "eegb = Case.loc[Case['Filename'] == 'patient_329_BIS/EEG2_WAV.csv', 'Column1']\n",
    "def read_data (data):\n",
    "    for i in data:\n",
    "        t=pd.read_csv(i)\n",
    "        return t\n",
    "bis= read_data(Bis)\n",
    "eeg_CH1 = read_data(eega)\n",
    "eeg_CH2 = read_data(eegb)\n",
    "\n",
    "bis.to_csv('bis_329.csv', index=False)\n",
    "eeg_CH1.to_csv('EEG_329_CH1.csv', index=False)\n",
    "eeg_CH2.to_csv('EEG_329_CH2.csv', index=False)"
   ]
  },
  {
   "cell_type": "code",
   "execution_count": 9,
   "id": "e052b285",
   "metadata": {},
   "outputs": [],
   "source": [
    "Bis = Case.loc[Case['Filename'] == 'patient_337_BIS/BIS.csv', 'Column1']\n",
    "eega = Case.loc[Case['Filename'] == 'patient_337_BIS/EEG1_WAV.csv', 'Column1']\n",
    "eegb = Case.loc[Case['Filename'] == 'patient_337_BIS/EEG2_WAV.csv', 'Column1']\n",
    "def read_data (data):\n",
    "    for i in data:\n",
    "        t=pd.read_csv(i)\n",
    "        return t\n",
    "bis= read_data(Bis)\n",
    "eeg_CH1 = read_data(eega)\n",
    "eeg_CH2 = read_data(eegb)\n",
    "\n",
    "bis.to_csv('bis_337.csv', index=False)\n",
    "eeg_CH1.to_csv('EEG_337_CH1.csv', index=False)\n",
    "eeg_CH2.to_csv('EEG_337_CH2.csv', index=False)"
   ]
  },
  {
   "cell_type": "code",
   "execution_count": 10,
   "id": "cd743eeb",
   "metadata": {},
   "outputs": [],
   "source": [
    "Bis = Case.loc[Case['Filename'] == 'patient_339_BIS/BIS.csv', 'Column1']\n",
    "eega = Case.loc[Case['Filename'] == 'patient_339_BIS/EEG1_WAV.csv', 'Column1']\n",
    "eegb = Case.loc[Case['Filename'] == 'patient_339_BIS/EEG2_WAV.csv', 'Column1']\n",
    "def read_data (data):\n",
    "    for i in data:\n",
    "        t=pd.read_csv(i)\n",
    "        return t\n",
    "bis= read_data(Bis)\n",
    "eeg_CH1 = read_data(eega)\n",
    "eeg_CH2 = read_data(eegb)\n",
    "\n",
    "bis.to_csv('bis_339.csv', index=False)\n",
    "eeg_CH1.to_csv('EEG_339_CH1.csv', index=False)\n",
    "eeg_CH2.to_csv('EEG_339_CH2.csv', index=False)"
   ]
  },
  {
   "cell_type": "code",
   "execution_count": 11,
   "id": "d1cb3782",
   "metadata": {},
   "outputs": [],
   "source": [
    "Bis = Case.loc[Case['Filename'] == 'patient_341_BIS/BIS.csv', 'Column1']\n",
    "eega = Case.loc[Case['Filename'] == 'patient_341_BIS/EEG1_WAV.csv', 'Column1']\n",
    "eegb = Case.loc[Case['Filename'] == 'patient_341_BIS/EEG2_WAV.csv', 'Column1']\n",
    "def read_data (data):\n",
    "    for i in data:\n",
    "        t=pd.read_csv(i)\n",
    "        return t\n",
    "bis= read_data(Bis)\n",
    "eeg_CH1 = read_data(eega)\n",
    "eeg_CH2 = read_data(eegb)\n",
    "\n",
    "bis.to_csv('bis_341.csv', index=False)\n",
    "eeg_CH1.to_csv('EEG_341_CH1.csv', index=False)\n",
    "eeg_CH2.to_csv('EEG_341_CH2.csv', index=False)"
   ]
  },
  {
   "cell_type": "code",
   "execution_count": 12,
   "id": "5d1d75d6",
   "metadata": {},
   "outputs": [],
   "source": [
    "Bis = Case.loc[Case['Filename'] == 'patient_344_BIS/BIS.csv', 'Column1']\n",
    "eega = Case.loc[Case['Filename'] == 'patient_344_BIS/EEG1_WAV.csv', 'Column1']\n",
    "eegb = Case.loc[Case['Filename'] == 'patient_344_BIS/EEG2_WAV.csv', 'Column1']\n",
    "def read_data (data):\n",
    "    for i in data:\n",
    "        t=pd.read_csv(i)\n",
    "        return t\n",
    "bis= read_data(Bis)\n",
    "eeg_CH1 = read_data(eega)\n",
    "eeg_CH2 = read_data(eegb)\n",
    "\n",
    "bis.to_csv('bis_344.csv', index=False)\n",
    "eeg_CH1.to_csv('EEG_344_CH1.csv', index=False)\n",
    "eeg_CH2.to_csv('EEG_344_CH2.csv', index=False)"
   ]
  },
  {
   "cell_type": "code",
   "execution_count": 13,
   "id": "e875bda3",
   "metadata": {},
   "outputs": [],
   "source": [
    "Bis = Case.loc[Case['Filename'] == 'patient_346_BIS/BIS.csv', 'Column1']\n",
    "eega = Case.loc[Case['Filename'] == 'patient_346_BIS/EEG1_WAV.csv', 'Column1']\n",
    "eegb = Case.loc[Case['Filename'] == 'patient_346_BIS/EEG2_WAV.csv', 'Column1']\n",
    "def read_data (data):\n",
    "    for i in data:\n",
    "        t=pd.read_csv(i)\n",
    "        return t\n",
    "bis= read_data(Bis)\n",
    "eeg_CH1 = read_data(eega)\n",
    "eeg_CH2 = read_data(eegb)\n",
    "\n",
    "bis.to_csv('bis_346.csv', index=False)\n",
    "eeg_CH1.to_csv('EEG_346_CH1.csv', index=False)\n",
    "eeg_CH2.to_csv('EEG_346_CH2.csv', index=False)"
   ]
  },
  {
   "cell_type": "code",
   "execution_count": 14,
   "id": "191c8bf5",
   "metadata": {},
   "outputs": [],
   "source": [
    "Bis = Case.loc[Case['Filename'] == 'patient_352_BIS/BIS.csv', 'Column1']\n",
    "eega = Case.loc[Case['Filename'] == 'patient_352_BIS/EEG1_WAV.csv', 'Column1']\n",
    "eegb = Case.loc[Case['Filename'] == 'patient_352_BIS/EEG2_WAV.csv', 'Column1']\n",
    "def read_data (data):\n",
    "    for i in data:\n",
    "        t=pd.read_csv(i)\n",
    "        return t\n",
    "bis= read_data(Bis)\n",
    "eeg_CH1 = read_data(eega)\n",
    "eeg_CH2 = read_data(eegb)\n",
    "\n",
    "bis.to_csv('bis_352.csv', index=False)\n",
    "eeg_CH1.to_csv('EEG_352_CH1.csv', index=False)\n",
    "eeg_CH2.to_csv('EEG_352_CH2.csv', index=False)"
   ]
  },
  {
   "cell_type": "code",
   "execution_count": 15,
   "id": "db83fdef",
   "metadata": {},
   "outputs": [],
   "source": [
    "Bis = Case.loc[Case['Filename'] == 'patient_356_BIS/BIS.csv', 'Column1']\n",
    "eega = Case.loc[Case['Filename'] == 'patient_356_BIS/EEG1_WAV.csv', 'Column1']\n",
    "eegb = Case.loc[Case['Filename'] == 'patient_356_BIS/EEG2_WAV.csv', 'Column1']\n",
    "def read_data (data):\n",
    "    for i in data:\n",
    "        t=pd.read_csv(i)\n",
    "        return t\n",
    "bis= read_data(Bis)\n",
    "eeg_CH1 = read_data(eega)\n",
    "eeg_CH2 = read_data(eegb)\n",
    "\n",
    "bis.to_csv('bis_356.csv', index=False)\n",
    "eeg_CH1.to_csv('EEG_356_CH1.csv', index=False)\n",
    "eeg_CH2.to_csv('EEG_356_CH2.csv', index=False)"
   ]
  },
  {
   "cell_type": "code",
   "execution_count": 16,
   "id": "8e68c4c8",
   "metadata": {},
   "outputs": [],
   "source": [
    "Bis = Case.loc[Case['Filename'] == 'patient_357_BIS/BIS.csv', 'Column1']\n",
    "eega = Case.loc[Case['Filename'] == 'patient_357_BIS/EEG1_WAV.csv', 'Column1']\n",
    "eegb = Case.loc[Case['Filename'] == 'patient_357_BIS/EEG2_WAV.csv', 'Column1']\n",
    "def read_data (data):\n",
    "    for i in data:\n",
    "        t=pd.read_csv(i)\n",
    "        return t\n",
    "bis= read_data(Bis)\n",
    "eeg_CH1 = read_data(eega)\n",
    "eeg_CH2 = read_data(eegb)\n",
    "\n",
    "bis.to_csv('bis_357.csv', index=False)\n",
    "eeg_CH1.to_csv('EEG_357_CH1.csv', index=False)\n",
    "eeg_CH2.to_csv('EEG_357_CH2.csv', index=False)"
   ]
  },
  {
   "cell_type": "code",
   "execution_count": 17,
   "id": "9578b12d",
   "metadata": {},
   "outputs": [],
   "source": [
    "Bis = Case.loc[Case['Filename'] == 'patient_361_BIS/BIS.csv', 'Column1']\n",
    "eega = Case.loc[Case['Filename'] == 'patient_361_BIS/EEG1_WAV.csv', 'Column1']\n",
    "eegb = Case.loc[Case['Filename'] == 'patient_361_BIS/EEG2_WAV.csv', 'Column1']\n",
    "def read_data (data):\n",
    "    for i in data:\n",
    "        t=pd.read_csv(i)\n",
    "        return t\n",
    "bis= read_data(Bis)\n",
    "eeg_CH1 = read_data(eega)\n",
    "eeg_CH2 = read_data(eegb)\n",
    "\n",
    "bis.to_csv('bis_361.csv', index=False)\n",
    "eeg_CH1.to_csv('EEG_361_CH1.csv', index=False)\n",
    "eeg_CH2.to_csv('EEG_361_CH2.csv', index=False)"
   ]
  },
  {
   "cell_type": "code",
   "execution_count": 18,
   "id": "38542182",
   "metadata": {},
   "outputs": [],
   "source": [
    "Bis = Case.loc[Case['Filename'] == 'patient_371_BIS/BIS.csv', 'Column1']\n",
    "eega = Case.loc[Case['Filename'] == 'patient_371_BIS/EEG1_WAV.csv', 'Column1']\n",
    "eegb = Case.loc[Case['Filename'] == 'patient_371_BIS/EEG2_WAV.csv', 'Column1']\n",
    "def read_data (data):\n",
    "    for i in data:\n",
    "        t=pd.read_csv(i)\n",
    "        return t\n",
    "bis= read_data(Bis)\n",
    "eeg_CH1 = read_data(eega)\n",
    "eeg_CH2 = read_data(eegb)\n",
    "\n",
    "bis.to_csv('bis_371.csv', index=False)\n",
    "eeg_CH1.to_csv('EEG_371_CH1.csv', index=False)\n",
    "eeg_CH2.to_csv('EEG_371_CH2.csv', index=False)"
   ]
  },
  {
   "cell_type": "code",
   "execution_count": 19,
   "id": "67df9258",
   "metadata": {},
   "outputs": [],
   "source": [
    "Bis = Case.loc[Case['Filename'] == 'patient_372_BIS/BIS.csv', 'Column1']\n",
    "eega = Case.loc[Case['Filename'] == 'patient_372_BIS/EEG1_WAV.csv', 'Column1']\n",
    "eegb = Case.loc[Case['Filename'] == 'patient_372_BIS/EEG2_WAV.csv', 'Column1']\n",
    "def read_data (data):\n",
    "    for i in data:\n",
    "        t=pd.read_csv(i)\n",
    "        return t\n",
    "bis= read_data(Bis)\n",
    "eeg_CH1 = read_data(eega)\n",
    "eeg_CH2 = read_data(eegb)\n",
    "\n",
    "bis.to_csv('bis_372.csv', index=False)\n",
    "eeg_CH1.to_csv('EEG_372_CH1.csv', index=False)\n",
    "eeg_CH2.to_csv('EEG_372_CH2.csv', index=False)"
   ]
  },
  {
   "cell_type": "code",
   "execution_count": 20,
   "id": "56efea77",
   "metadata": {},
   "outputs": [],
   "source": [
    "Bis = Case.loc[Case['Filename'] == 'patient_373_BIS/BIS.csv', 'Column1']\n",
    "eega = Case.loc[Case['Filename'] == 'patient_373_BIS/EEG1_WAV.csv', 'Column1']\n",
    "eegb = Case.loc[Case['Filename'] == 'patient_373_BIS/EEG2_WAV.csv', 'Column1']\n",
    "def read_data (data):\n",
    "    for i in data:\n",
    "        t=pd.read_csv(i)\n",
    "        return t\n",
    "bis= read_data(Bis)\n",
    "eeg_CH1 = read_data(eega)\n",
    "eeg_CH2 = read_data(eegb)\n",
    "\n",
    "bis.to_csv('bis_373.csv', index=False)\n",
    "eeg_CH1.to_csv('EEG_373_CH1.csv', index=False)\n",
    "eeg_CH2.to_csv('EEG_373_CH2.csv', index=False)"
   ]
  },
  {
   "cell_type": "code",
   "execution_count": 21,
   "id": "06b99915",
   "metadata": {},
   "outputs": [],
   "source": [
    "Bis = Case.loc[Case['Filename'] == 'patient_374_BIS/BIS.csv', 'Column1']\n",
    "eega = Case.loc[Case['Filename'] == 'patient_374_BIS/EEG1_WAV.csv', 'Column1']\n",
    "eegb = Case.loc[Case['Filename'] == 'patient_374_BIS/EEG2_WAV.csv', 'Column1']\n",
    "def read_data (data):\n",
    "    for i in data:\n",
    "        t=pd.read_csv(i)\n",
    "        return t\n",
    "bis= read_data(Bis)\n",
    "eeg_CH1 = read_data(eega)\n",
    "eeg_CH2 = read_data(eegb)\n",
    "\n",
    "bis.to_csv('bis_374.csv', index=False)\n",
    "eeg_CH1.to_csv('EEG_374_CH1.csv', index=False)\n",
    "eeg_CH2.to_csv('EEG_374_CH2.csv', index=False)"
   ]
  },
  {
   "cell_type": "code",
   "execution_count": 22,
   "id": "7d655eaf",
   "metadata": {},
   "outputs": [],
   "source": [
    "Bis = Case.loc[Case['Filename'] == 'patient_376_BIS/BIS.csv', 'Column1']\n",
    "eega = Case.loc[Case['Filename'] == 'patient_376_BIS/EEG1_WAV.csv', 'Column1']\n",
    "eegb = Case.loc[Case['Filename'] == 'patient_376_BIS/EEG2_WAV.csv', 'Column1']\n",
    "def read_data (data):\n",
    "    for i in data:\n",
    "        t=pd.read_csv(i)\n",
    "        return t\n",
    "bis= read_data(Bis)\n",
    "eeg_CH1 = read_data(eega)\n",
    "eeg_CH2 = read_data(eegb)\n",
    "\n",
    "bis.to_csv('bis_376.csv', index=False)\n",
    "eeg_CH1.to_csv('EEG_376_CH1.csv', index=False)\n",
    "eeg_CH2.to_csv('EEG_376_CH2.csv', index=False)"
   ]
  },
  {
   "cell_type": "code",
   "execution_count": 23,
   "id": "b6e6243c",
   "metadata": {},
   "outputs": [],
   "source": [
    "Bis = Case.loc[Case['Filename'] == 'patient_379_BIS/BIS.csv', 'Column1']\n",
    "eega = Case.loc[Case['Filename'] == 'patient_379_BIS/EEG1_WAV.csv', 'Column1']\n",
    "eegb = Case.loc[Case['Filename'] == 'patient_379_BIS/EEG2_WAV.csv', 'Column1']\n",
    "def read_data (data):\n",
    "    for i in data:\n",
    "        t=pd.read_csv(i)\n",
    "        return t\n",
    "bis= read_data(Bis)\n",
    "eeg_CH1 = read_data(eega)\n",
    "eeg_CH2 = read_data(eegb)\n",
    "\n",
    "bis.to_csv('bis_379.csv', index=False)\n",
    "eeg_CH1.to_csv('EEG_379_CH1.csv', index=False)\n",
    "eeg_CH2.to_csv('EEG_379_CH2.csv', index=False)"
   ]
  },
  {
   "cell_type": "code",
   "execution_count": 24,
   "id": "c576153d",
   "metadata": {},
   "outputs": [],
   "source": [
    "Bis = Case.loc[Case['Filename'] == 'patient_380_BIS/BIS.csv', 'Column1']\n",
    "eega = Case.loc[Case['Filename'] == 'patient_380_BIS/EEG1_WAV.csv', 'Column1']\n",
    "eegb = Case.loc[Case['Filename'] == 'patient_380_BIS/EEG2_WAV.csv', 'Column1']\n",
    "def read_data (data):\n",
    "    for i in data:\n",
    "        t=pd.read_csv(i)\n",
    "        return t\n",
    "bis= read_data(Bis)\n",
    "eeg_CH1 = read_data(eega)\n",
    "eeg_CH2 = read_data(eegb)\n",
    "\n",
    "bis.to_csv('bis_380.csv', index=False)\n",
    "eeg_CH1.to_csv('EEG_380_CH1.csv', index=False)\n",
    "eeg_CH2.to_csv('EEG_380_CH2.csv', index=False)"
   ]
  },
  {
   "cell_type": "code",
   "execution_count": 25,
   "id": "aabb2ba3",
   "metadata": {},
   "outputs": [],
   "source": [
    "Bis = Case.loc[Case['Filename'] == 'patient_386_BIS/BIS.csv', 'Column1']\n",
    "eega = Case.loc[Case['Filename'] == 'patient_386_BIS/EEG1_WAV.csv', 'Column1']\n",
    "eegb = Case.loc[Case['Filename'] == 'patient_386_BIS/EEG2_WAV.csv', 'Column1']\n",
    "def read_data (data):\n",
    "    for i in data:\n",
    "        t=pd.read_csv(i)\n",
    "        return t\n",
    "bis= read_data(Bis)\n",
    "eeg_CH1 = read_data(eega)\n",
    "eeg_CH2 = read_data(eegb)\n",
    "\n",
    "bis.to_csv('bis_386.csv', index=False)\n",
    "eeg_CH1.to_csv('EEG_386_CH1.csv', index=False)\n",
    "eeg_CH2.to_csv('EEG_386_CH2.csv', index=False)"
   ]
  },
  {
   "cell_type": "code",
   "execution_count": 26,
   "id": "8d1357a8",
   "metadata": {},
   "outputs": [],
   "source": [
    "Bis = Case.loc[Case['Filename'] == 'patient_392_BIS/BIS.csv', 'Column1']\n",
    "eega = Case.loc[Case['Filename'] == 'patient_392_BIS/EEG1_WAV.csv', 'Column1']\n",
    "eegb = Case.loc[Case['Filename'] == 'patient_392_BIS/EEG2_WAV.csv', 'Column1']\n",
    "def read_data (data):\n",
    "    for i in data:\n",
    "        t=pd.read_csv(i)\n",
    "        return t\n",
    "bis= read_data(Bis)\n",
    "eeg_CH1 = read_data(eega)\n",
    "eeg_CH2 = read_data(eegb)\n",
    "\n",
    "bis.to_csv('bis_392.csv', index=False)\n",
    "eeg_CH1.to_csv('EEG_392_CH1.csv', index=False)\n",
    "eeg_CH2.to_csv('EEG_392_CH2.csv', index=False)"
   ]
  },
  {
   "cell_type": "code",
   "execution_count": 27,
   "id": "c3bb2626",
   "metadata": {},
   "outputs": [],
   "source": [
    "Bis = Case.loc[Case['Filename'] == 'patient_395_BIS/BIS.csv', 'Column1']\n",
    "eega = Case.loc[Case['Filename'] == 'patient_395_BIS/EEG1_WAV.csv', 'Column1']\n",
    "eegb = Case.loc[Case['Filename'] == 'patient_395_BIS/EEG2_WAV.csv', 'Column1']\n",
    "def read_data (data):\n",
    "    for i in data:\n",
    "        t=pd.read_csv(i)\n",
    "        return t\n",
    "bis= read_data(Bis)\n",
    "eeg_CH1 = read_data(eega)\n",
    "eeg_CH2 = read_data(eegb)\n",
    "\n",
    "bis.to_csv('bis_395.csv', index=False)\n",
    "eeg_CH1.to_csv('EEG_395_CH1.csv', index=False)\n",
    "eeg_CH2.to_csv('EEG_395_CH2.csv', index=False)"
   ]
  },
  {
   "cell_type": "code",
   "execution_count": 28,
   "id": "3e96df3f",
   "metadata": {},
   "outputs": [],
   "source": [
    "Bis = Case.loc[Case['Filename'] == 'patient_401_BIS/BIS.csv', 'Column1']\n",
    "eega = Case.loc[Case['Filename'] == 'patient_401_BIS/EEG1_WAV.csv', 'Column1']\n",
    "eegb = Case.loc[Case['Filename'] == 'patient_401_BIS/EEG2_WAV.csv', 'Column1']\n",
    "def read_data (data):\n",
    "    for i in data:\n",
    "        t=pd.read_csv(i)\n",
    "        return t\n",
    "bis= read_data(Bis)\n",
    "eeg_CH1 = read_data(eega)\n",
    "eeg_CH2 = read_data(eegb)\n",
    "\n",
    "bis.to_csv('bis_401.csv', index=False)\n",
    "eeg_CH1.to_csv('EEG_401_CH1.csv', index=False)\n",
    "eeg_CH2.to_csv('EEG_401_CH2.csv', index=False)"
   ]
  },
  {
   "cell_type": "code",
   "execution_count": 29,
   "id": "d5d7ec88",
   "metadata": {},
   "outputs": [],
   "source": [
    "Bis = Case.loc[Case['Filename'] == 'patient_403_BIS/BIS.csv', 'Column1']\n",
    "eega = Case.loc[Case['Filename'] == 'patient_403_BIS/EEG1_WAV.csv', 'Column1']\n",
    "eegb = Case.loc[Case['Filename'] == 'patient_403_BIS/EEG2_WAV.csv', 'Column1']\n",
    "def read_data (data):\n",
    "    for i in data:\n",
    "        t=pd.read_csv(i)\n",
    "        return t\n",
    "bis= read_data(Bis)\n",
    "eeg_CH1 = read_data(eega)\n",
    "eeg_CH2 = read_data(eegb)\n",
    "\n",
    "bis.to_csv('bis_403.csv', index=False)\n",
    "eeg_CH1.to_csv('EEG_403_CH1.csv', index=False)\n",
    "eeg_CH2.to_csv('EEG_403_CH2.csv', index=False)"
   ]
  },
  {
   "cell_type": "code",
   "execution_count": 31,
   "id": "358482be",
   "metadata": {},
   "outputs": [],
   "source": [
    "Bis = Case.loc[Case['Filename'] == 'patient_404_BIS/BIS.csv', 'Column1']\n",
    "eega = Case.loc[Case['Filename'] == 'patient_404_BIS/EEG1_WAV.csv', 'Column1']\n",
    "eegb = Case.loc[Case['Filename'] == 'patient_404_BIS/EEG2_WAV.csv', 'Column1']\n",
    "def read_data (data):\n",
    "    for i in data:\n",
    "        t=pd.read_csv(i)\n",
    "        return t\n",
    "bis= read_data(Bis)\n",
    "eeg_CH1 = read_data(eega)\n",
    "eeg_CH2 = read_data(eegb)\n",
    "\n",
    "bis.to_csv('bis_404.csv', index=False)\n",
    "eeg_CH1.to_csv('EEG_404_CH1.csv', index=False)\n",
    "eeg_CH2.to_csv('EEG_404_CH2.csv', index=False)"
   ]
  },
  {
   "cell_type": "code",
   "execution_count": 32,
   "id": "11176d3b",
   "metadata": {},
   "outputs": [],
   "source": [
    "Bis = Case.loc[Case['Filename'] == 'patient_412_BIS/BIS.csv', 'Column1']\n",
    "eega = Case.loc[Case['Filename'] == 'patient_412_BIS/EEG1_WAV.csv', 'Column1']\n",
    "eegb = Case.loc[Case['Filename'] == 'patient_412_BIS/EEG2_WAV.csv', 'Column1']\n",
    "def read_data (data):\n",
    "    for i in data:\n",
    "        t=pd.read_csv(i)\n",
    "        return t\n",
    "bis= read_data(Bis)\n",
    "eeg_CH1 = read_data(eega)\n",
    "eeg_CH2 = read_data(eegb)\n",
    "\n",
    "bis.to_csv('bis_412.csv', index=False)\n",
    "eeg_CH1.to_csv('EEG_412_CH1.csv', index=False)\n",
    "eeg_CH2.to_csv('EEG_412_CH2.csv', index=False)"
   ]
  },
  {
   "cell_type": "code",
   "execution_count": 33,
   "id": "9aebb6f3",
   "metadata": {},
   "outputs": [],
   "source": [
    "Bis = Case.loc[Case['Filename'] == 'patient_420_BIS/BIS.csv', 'Column1']\n",
    "eega = Case.loc[Case['Filename'] == 'patient_420_BIS/EEG1_WAV.csv', 'Column1']\n",
    "eegb = Case.loc[Case['Filename'] == 'patient_420_BIS/EEG2_WAV.csv', 'Column1']\n",
    "def read_data (data):\n",
    "    for i in data:\n",
    "        t=pd.read_csv(i)\n",
    "        return t\n",
    "bis= read_data(Bis)\n",
    "eeg_CH1 = read_data(eega)\n",
    "eeg_CH2 = read_data(eegb)\n",
    "\n",
    "bis.to_csv('bis_420.csv', index=False)\n",
    "eeg_CH1.to_csv('EEG_420_CH1.csv', index=False)\n",
    "eeg_CH2.to_csv('EEG_420_CH2.csv', index=False)"
   ]
  },
  {
   "cell_type": "code",
   "execution_count": 4,
   "id": "25b63c94",
   "metadata": {},
   "outputs": [],
   "source": [
    "Bis = Case.loc[Case['Filename'] == 'patient_5625_BIS/BIS.csv', 'Column1']\n",
    "eega = Case.loc[Case['Filename'] == 'patient_5625_BIS/EEG1_WAV.csv', 'Column1']\n",
    "eegb = Case.loc[Case['Filename'] == 'patient_5625_BIS/EEG2_WAV.csv', 'Column1']\n",
    "def read_data (data):\n",
    "    for i in data:\n",
    "        t=pd.read_csv(i)\n",
    "        return t\n",
    "bis= read_data(Bis)\n",
    "eeg_CH1 = read_data(eega)\n",
    "eeg_CH2 = read_data(eegb)\n",
    "\n",
    "bis.to_csv('bis_5625.csv', index=False)\n",
    "eeg_CH1.to_csv('EEG_5625_CH1.csv', index=False)\n",
    "eeg_CH2.to_csv('EEG_5625_CH2.csv', index=False)"
   ]
  },
  {
   "cell_type": "code",
   "execution_count": 5,
   "id": "c196a936",
   "metadata": {},
   "outputs": [],
   "source": [
    "Bis = Case.loc[Case['Filename'] == 'patient_5526_BIS/BIS.csv', 'Column1']\n",
    "eega = Case.loc[Case['Filename'] == 'patient_5526_BIS/EEG1_WAV.csv', 'Column1']\n",
    "eegb = Case.loc[Case['Filename'] == 'patient_5526_BIS/EEG2_WAV.csv', 'Column1']\n",
    "def read_data (data):\n",
    "    for i in data:\n",
    "        t=pd.read_csv(i)\n",
    "        return t\n",
    "bis= read_data(Bis)\n",
    "eeg_CH1 = read_data(eega)\n",
    "eeg_CH2 = read_data(eegb)\n",
    "\n",
    "bis.to_csv('bis_5526.csv', index=False)\n",
    "eeg_CH1.to_csv('EEG_5526_CH1.csv', index=False)\n",
    "eeg_CH2.to_csv('EEG_5526_CH2.csv', index=False)"
   ]
  },
  {
   "cell_type": "code",
   "execution_count": 6,
   "id": "e820490c",
   "metadata": {},
   "outputs": [],
   "source": [
    "Bis = Case.loc[Case['Filename'] == 'patient_3243_BIS/BIS.csv', 'Column1']\n",
    "eega = Case.loc[Case['Filename'] == 'patient_3243_BIS/EEG1_WAV.csv', 'Column1']\n",
    "eegb = Case.loc[Case['Filename'] == 'patient_3243_BIS/EEG2_WAV.csv', 'Column1']\n",
    "def read_data (data):\n",
    "    for i in data:\n",
    "        t=pd.read_csv(i)\n",
    "        return t\n",
    "bis= read_data(Bis)\n",
    "eeg_CH1 = read_data(eega)\n",
    "eeg_CH2 = read_data(eegb)\n",
    "\n",
    "bis.to_csv('bis_3243.csv', index=False)\n",
    "eeg_CH1.to_csv('EEG_3243_CH1.csv', index=False)\n",
    "eeg_CH2.to_csv('EEG_3243_CH2.csv', index=False)"
   ]
  },
  {
   "cell_type": "code",
   "execution_count": 7,
   "id": "229e027c",
   "metadata": {},
   "outputs": [],
   "source": [
    "Bis = Case.loc[Case['Filename'] == 'patient_1685_BIS/BIS.csv', 'Column1']\n",
    "eega = Case.loc[Case['Filename'] == 'patient_1685_BIS/EEG1_WAV.csv', 'Column1']\n",
    "eegb = Case.loc[Case['Filename'] == 'patient_1685_BIS/EEG2_WAV.csv', 'Column1']\n",
    "def read_data (data):\n",
    "    for i in data:\n",
    "        t=pd.read_csv(i)\n",
    "        return t\n",
    "bis= read_data(Bis)\n",
    "eeg_CH1 = read_data(eega)\n",
    "eeg_CH2 = read_data(eegb)\n",
    "\n",
    "bis.to_csv('bis_1685.csv', index=False)\n",
    "eeg_CH1.to_csv('EEG_1685_CH1.csv', index=False)\n",
    "eeg_CH2.to_csv('EEG_1685_CH2.csv', index=False)"
   ]
  },
  {
   "cell_type": "code",
   "execution_count": 8,
   "id": "5fd08652",
   "metadata": {},
   "outputs": [],
   "source": [
    "Bis = Case.loc[Case['Filename'] == 'patient_1133_BIS/BIS.csv', 'Column1']\n",
    "eega = Case.loc[Case['Filename'] == 'patient_1133_BIS/EEG1_WAV.csv', 'Column1']\n",
    "eegb = Case.loc[Case['Filename'] == 'patient_1133_BIS/EEG2_WAV.csv', 'Column1']\n",
    "def read_data (data):\n",
    "    for i in data:\n",
    "        t=pd.read_csv(i)\n",
    "        return t\n",
    "bis= read_data(Bis)\n",
    "eeg_CH1 = read_data(eega)\n",
    "eeg_CH2 = read_data(eegb)\n",
    "\n",
    "bis.to_csv('bis_1133.csv', index=False)\n",
    "eeg_CH1.to_csv('EEG_1133_CH1.csv', index=False)\n",
    "eeg_CH2.to_csv('EEG_1133_CH2.csv', index=False)"
   ]
  },
  {
   "cell_type": "code",
   "execution_count": 9,
   "id": "8d6fa584",
   "metadata": {},
   "outputs": [],
   "source": [
    "Bis = Case.loc[Case['Filename'] == 'patient_3324_BIS/BIS.csv', 'Column1']\n",
    "eega = Case.loc[Case['Filename'] == 'patient_3324_BIS/EEG1_WAV.csv', 'Column1']\n",
    "eegb = Case.loc[Case['Filename'] == 'patient_3324_BIS/EEG2_WAV.csv', 'Column1']\n",
    "def read_data (data):\n",
    "    for i in data:\n",
    "        t=pd.read_csv(i)\n",
    "        return t\n",
    "bis= read_data(Bis)\n",
    "eeg_CH1 = read_data(eega)\n",
    "eeg_CH2 = read_data(eegb)\n",
    "\n",
    "bis.to_csv('bis_3324.csv', index=False)\n",
    "eeg_CH1.to_csv('EEG_3324_CH1.csv', index=False)\n",
    "eeg_CH2.to_csv('EEG_3324_CH2.csv', index=False)"
   ]
  },
  {
   "cell_type": "code",
   "execution_count": 10,
   "id": "abc7dc13",
   "metadata": {},
   "outputs": [],
   "source": [
    "Bis = Case.loc[Case['Filename'] == 'patient_432_BIS/BIS.csv', 'Column1']\n",
    "eega = Case.loc[Case['Filename'] == 'patient_432_BIS/EEG1_WAV.csv', 'Column1']\n",
    "eegb = Case.loc[Case['Filename'] == 'patient_432_BIS/EEG2_WAV.csv', 'Column1']\n",
    "def read_data (data):\n",
    "    for i in data:\n",
    "        t=pd.read_csv(i)\n",
    "        return t\n",
    "bis= read_data(Bis)\n",
    "eeg_CH1 = read_data(eega)\n",
    "eeg_CH2 = read_data(eegb)\n",
    "\n",
    "bis.to_csv('bis_432.csv', index=False)\n",
    "eeg_CH1.to_csv('EEG_432_CH1.csv', index=False)\n",
    "eeg_CH2.to_csv('EEG_432_CH2.csv', index=False)"
   ]
  },
  {
   "cell_type": "code",
   "execution_count": 11,
   "id": "6ddc3fda",
   "metadata": {},
   "outputs": [],
   "source": [
    "Bis = Case.loc[Case['Filename'] == 'patient_456_BIS/BIS.csv', 'Column1']\n",
    "eega = Case.loc[Case['Filename'] == 'patient_456_BIS/EEG1_WAV.csv', 'Column1']\n",
    "eegb = Case.loc[Case['Filename'] == 'patient_456_BIS/EEG2_WAV.csv', 'Column1']\n",
    "def read_data (data):\n",
    "    for i in data:\n",
    "        t=pd.read_csv(i)\n",
    "        return t\n",
    "bis= read_data(Bis)\n",
    "eeg_CH1 = read_data(eega)\n",
    "eeg_CH2 = read_data(eegb)\n",
    "\n",
    "bis.to_csv('bis_456.csv', index=False)\n",
    "eeg_CH1.to_csv('EEG_456_CH1.csv', index=False)\n",
    "eeg_CH2.to_csv('EEG_456_CH2.csv', index=False)"
   ]
  },
  {
   "cell_type": "code",
   "execution_count": 12,
   "id": "9e9a8b38",
   "metadata": {},
   "outputs": [],
   "source": [
    "Bis = Case.loc[Case['Filename'] == 'patient_458_BIS/BIS.csv', 'Column1']\n",
    "eega = Case.loc[Case['Filename'] == 'patient_458_BIS/EEG1_WAV.csv', 'Column1']\n",
    "eegb = Case.loc[Case['Filename'] == 'patient_458_BIS/EEG2_WAV.csv', 'Column1']\n",
    "def read_data (data):\n",
    "    for i in data:\n",
    "        t=pd.read_csv(i)\n",
    "        return t\n",
    "bis= read_data(Bis)\n",
    "eeg_CH1 = read_data(eega)\n",
    "eeg_CH2 = read_data(eegb)\n",
    "\n",
    "bis.to_csv('bis_458.csv', index=False)\n",
    "eeg_CH1.to_csv('EEG_458_CH1.csv', index=False)\n",
    "eeg_CH2.to_csv('EEG_458_CH2.csv', index=False)"
   ]
  },
  {
   "cell_type": "code",
   "execution_count": 13,
   "id": "9ec15059",
   "metadata": {},
   "outputs": [],
   "source": [
    "Bis = Case.loc[Case['Filename'] == 'patient_478_BIS/BIS.csv', 'Column1']\n",
    "eega = Case.loc[Case['Filename'] == 'patient_478_BIS/EEG1_WAV.csv', 'Column1']\n",
    "eegb = Case.loc[Case['Filename'] == 'patient_478_BIS/EEG2_WAV.csv', 'Column1']\n",
    "def read_data (data):\n",
    "    for i in data:\n",
    "        t=pd.read_csv(i)\n",
    "        return t\n",
    "bis= read_data(Bis)\n",
    "eeg_CH1 = read_data(eega)\n",
    "eeg_CH2 = read_data(eegb)\n",
    "\n",
    "bis.to_csv('bis_478.csv', index=False)\n",
    "eeg_CH1.to_csv('EEG_478_CH1.csv', index=False)\n",
    "eeg_CH2.to_csv('EEG_478_CH2.csv', index=False)"
   ]
  },
  {
   "cell_type": "code",
   "execution_count": 6,
   "id": "0615cac2",
   "metadata": {},
   "outputs": [],
   "source": [
    "Bis = Case.loc[Case['Filename'] == 'patient_480_BIS/BIS.csv', 'Column1']\n",
    "eega = Case.loc[Case['Filename'] == 'patient_480_BIS/EEG1_WAV.csv', 'Column1']\n",
    "eegb = Case.loc[Case['Filename'] == 'patient_480_BIS/EEG2_WAV.csv', 'Column1']\n",
    "def read_data (data):\n",
    "    for i in data:\n",
    "        t=pd.read_csv(i)\n",
    "        return t\n",
    "bis= read_data(Bis)\n",
    "eeg_CH1 = read_data(eega)\n",
    "eeg_CH2 = read_data(eegb)\n",
    "\n",
    "bis.to_csv('bis_480.csv', index=False)\n",
    "eeg_CH1.to_csv('EEG_480_CH1.csv', index=False)\n",
    "eeg_CH2.to_csv('EEG_480_CH2.csv', index=False)"
   ]
  },
  {
   "cell_type": "code",
   "execution_count": 4,
   "id": "8fc5e5db",
   "metadata": {},
   "outputs": [],
   "source": [
    "Bis = Case.loc[Case['Filename'] == 'patient_4827_BIS/BIS.csv', 'Column1']\n",
    "eega = Case.loc[Case['Filename'] == 'patient_4827_BIS/EEG1_WAV.csv', 'Column1']\n",
    "eegb = Case.loc[Case['Filename'] == 'patient_4827_BIS/EEG2_WAV.csv', 'Column1']\n",
    "def read_data (data):\n",
    "    for i in data:\n",
    "        t=pd.read_csv(i)\n",
    "        return t\n",
    "bis= read_data(Bis)\n",
    "eeg_CH1 = read_data(eega)\n",
    "eeg_CH2 = read_data(eegb)\n",
    "\n",
    "bis.to_csv('bis_4827.csv', index=False)\n",
    "eeg_CH1.to_csv('EEG_4827_CH1.csv', index=False)\n",
    "eeg_CH2.to_csv('EEG_4827_CH2.csv', index=False)"
   ]
  },
  {
   "cell_type": "code",
   "execution_count": 5,
   "id": "737ac179",
   "metadata": {},
   "outputs": [
    {
     "data": {
      "text/plain": [
       "(731591, 2)"
      ]
     },
     "execution_count": 5,
     "metadata": {},
     "output_type": "execute_result"
    }
   ],
   "source": [
    "eeg_CH2.shape"
   ]
  },
  {
   "cell_type": "code",
   "execution_count": 7,
   "id": "9419394a",
   "metadata": {},
   "outputs": [
    {
     "data": {
      "text/plain": [
       "(887697, 2)"
      ]
     },
     "execution_count": 7,
     "metadata": {},
     "output_type": "execute_result"
    }
   ],
   "source": [
    "eeg_CH2.shape"
   ]
  },
  {
   "cell_type": "code",
   "execution_count": 9,
   "id": "1f014298",
   "metadata": {},
   "outputs": [
    {
     "data": {
      "text/plain": [
       "(926437, 2)"
      ]
     },
     "execution_count": 9,
     "metadata": {},
     "output_type": "execute_result"
    }
   ],
   "source": [
    "eeg_CH2.shape"
   ]
  },
  {
   "cell_type": "code",
   "execution_count": null,
   "id": "ac963401",
   "metadata": {},
   "outputs": [],
   "source": []
  }
 ],
 "metadata": {
  "kernelspec": {
   "display_name": "Python 3 (ipykernel)",
   "language": "python",
   "name": "python3"
  },
  "language_info": {
   "codemirror_mode": {
    "name": "ipython",
    "version": 3
   },
   "file_extension": ".py",
   "mimetype": "text/x-python",
   "name": "python",
   "nbconvert_exporter": "python",
   "pygments_lexer": "ipython3",
   "version": "3.9.13"
  }
 },
 "nbformat": 4,
 "nbformat_minor": 5
}
